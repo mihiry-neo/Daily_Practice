{
 "cells": [
  {
   "cell_type": "code",
   "execution_count": 1,
   "id": "f7fbb790",
   "metadata": {},
   "outputs": [],
   "source": [
    "from pyspark.sql import SparkSession\n",
    "from pyspark.sql.functions import *\n",
    "from pyspark.sql.types import *\n",
    "from pyspark.sql.window import Window\n",
    "spark = SparkSession.builder.appName(\"PySparkPrac\").getOrCreate()"
   ]
  },
  {
   "cell_type": "code",
   "execution_count": 2,
   "id": "0a684b91",
   "metadata": {},
   "outputs": [],
   "source": [
    "data = [\n",
    "    (\"2025-01-01\", 100),\n",
    "    (\"2025-01-02\", 150),\n",
    "    (\"2025-01-04\", 120),\n",
    "    (\"2025-01-06\", 200),\n",
    "]\n",
    "sales = spark.createDataFrame(data, [\"date\", \"sales\"])"
   ]
  },
  {
   "cell_type": "code",
   "execution_count": 3,
   "id": "d3868aab",
   "metadata": {},
   "outputs": [],
   "source": [
    "sales = sales.withColumn(\"date\", to_date(\"date\"))"
   ]
  },
  {
   "cell_type": "code",
   "execution_count": 4,
   "id": "18c5ea3a",
   "metadata": {},
   "outputs": [],
   "source": [
    "min_max = sales.agg(min(\"date\").alias(\"min_date\"), max(\"date\").alias(\"max_date\")).first()\n",
    "min_date, max_date = min_max[\"min_date\"], min_max[\"max_date\"]"
   ]
  },
  {
   "cell_type": "code",
   "execution_count": 5,
   "id": "c211561b",
   "metadata": {},
   "outputs": [
    {
     "name": "stdout",
     "output_type": "stream",
     "text": [
      "+------------------------------------------------------------------------+\n",
      "|dates                                                                   |\n",
      "+------------------------------------------------------------------------+\n",
      "|[2025-01-01, 2025-01-02, 2025-01-03, 2025-01-04, 2025-01-05, 2025-01-06]|\n",
      "+------------------------------------------------------------------------+\n",
      "\n"
     ]
    }
   ],
   "source": [
    "date_df = spark.sql(f\"SELECT sequence(to_date('{min_date}'), to_date('{max_date}'), interval 1 day) as dates\")\n",
    "date_df.show(truncate=False)"
   ]
  },
  {
   "cell_type": "code",
   "execution_count": 6,
   "id": "75664b24",
   "metadata": {},
   "outputs": [],
   "source": [
    "date_df = date_df.select(explode(col(\"dates\")).alias(\"date\"))"
   ]
  },
  {
   "cell_type": "code",
   "execution_count": 7,
   "id": "68fe4186",
   "metadata": {},
   "outputs": [
    {
     "name": "stdout",
     "output_type": "stream",
     "text": [
      "+----------+\n",
      "|      date|\n",
      "+----------+\n",
      "|2025-01-01|\n",
      "|2025-01-02|\n",
      "|2025-01-03|\n",
      "|2025-01-04|\n",
      "|2025-01-05|\n",
      "|2025-01-06|\n",
      "+----------+\n",
      "\n"
     ]
    }
   ],
   "source": [
    "date_df.show()"
   ]
  },
  {
   "cell_type": "code",
   "execution_count": 8,
   "id": "bba2f694",
   "metadata": {},
   "outputs": [
    {
     "name": "stdout",
     "output_type": "stream",
     "text": [
      "+----------+\n",
      "|      date|\n",
      "+----------+\n",
      "|2025-01-05|\n",
      "|2025-01-03|\n",
      "+----------+\n",
      "\n"
     ]
    }
   ],
   "source": [
    "missing_dates = date_df.join(sales.select(\"date\"), on=\"date\", how=\"left_anti\")\n",
    "missing_dates.show()"
   ]
  },
  {
   "cell_type": "code",
   "execution_count": 26,
   "id": "991a9ba0",
   "metadata": {},
   "outputs": [],
   "source": [
    "data = [\n",
    "    (1, \"2025-01-01\"),\n",
    "    (1, \"2025-01-02\"),\n",
    "    (1, \"2025-01-04\"),\n",
    "    (2, \"2025-01-01\"),\n",
    "    (2, \"2025-01-02\"),\n",
    "    (2, \"2025-01-03\"),\n",
    "    (2, \"2025-01-05\")\n",
    "]\n",
    "df = spark.createDataFrame(data, [\"user_id\", \"login_date\"])"
   ]
  },
  {
   "cell_type": "code",
   "execution_count": 27,
   "id": "f96af3f2",
   "metadata": {},
   "outputs": [],
   "source": [
    "w = Window.partitionBy(\"user_id\").orderBy(\"login_date\")\n",
    "df = df.withColumn(\"rn\", row_number().over(w))"
   ]
  },
  {
   "cell_type": "code",
   "execution_count": 28,
   "id": "037ee1b3",
   "metadata": {},
   "outputs": [],
   "source": [
    "df = df.withColumn(\"diff\", date_sub(col(\"login_date\"), col(\"rn\")))"
   ]
  },
  {
   "cell_type": "code",
   "execution_count": 29,
   "id": "55e54859",
   "metadata": {},
   "outputs": [
    {
     "name": "stdout",
     "output_type": "stream",
     "text": [
      "+-------+----------+---+----------+\n",
      "|user_id|login_date| rn|      diff|\n",
      "+-------+----------+---+----------+\n",
      "|      1|2025-01-01|  1|2024-12-31|\n",
      "|      1|2025-01-02|  2|2024-12-31|\n",
      "|      1|2025-01-04|  3|2025-01-01|\n",
      "|      2|2025-01-01|  1|2024-12-31|\n",
      "|      2|2025-01-02|  2|2024-12-31|\n",
      "|      2|2025-01-03|  3|2024-12-31|\n",
      "|      2|2025-01-05|  4|2025-01-01|\n",
      "+-------+----------+---+----------+\n",
      "\n"
     ]
    }
   ],
   "source": [
    "df.show()"
   ]
  },
  {
   "cell_type": "code",
   "execution_count": 31,
   "id": "f2a62841",
   "metadata": {},
   "outputs": [],
   "source": [
    "counts = df.groupBy(\"user_id\", \"diff\").agg(count(\"*\").alias(\"streak\"))"
   ]
  },
  {
   "cell_type": "code",
   "execution_count": 33,
   "id": "0409d7bc",
   "metadata": {},
   "outputs": [
    {
     "name": "stdout",
     "output_type": "stream",
     "text": [
      "+-------+----------+------+\n",
      "|user_id|      diff|streak|\n",
      "+-------+----------+------+\n",
      "|      1|2024-12-31|     2|\n",
      "|      1|2025-01-01|     1|\n",
      "|      2|2024-12-31|     3|\n",
      "|      2|2025-01-01|     1|\n",
      "+-------+----------+------+\n",
      "\n"
     ]
    }
   ],
   "source": [
    "counts.show()"
   ]
  },
  {
   "cell_type": "code",
   "execution_count": 32,
   "id": "369fcd93",
   "metadata": {},
   "outputs": [
    {
     "name": "stdout",
     "output_type": "stream",
     "text": [
      "+-------+--------------+\n",
      "|user_id|longest_streak|\n",
      "+-------+--------------+\n",
      "|      1|             2|\n",
      "|      2|             3|\n",
      "+-------+--------------+\n",
      "\n"
     ]
    }
   ],
   "source": [
    "result = counts.groupBy(\"user_id\").agg(max(\"streak\").alias(\"longest_streak\"))\n",
    "result.show()"
   ]
  }
 ],
 "metadata": {
  "kernelspec": {
   "display_name": "Python 3",
   "language": "python",
   "name": "python3"
  },
  "language_info": {
   "codemirror_mode": {
    "name": "ipython",
    "version": 3
   },
   "file_extension": ".py",
   "mimetype": "text/x-python",
   "name": "python",
   "nbconvert_exporter": "python",
   "pygments_lexer": "ipython3",
   "version": "3.11.5"
  }
 },
 "nbformat": 4,
 "nbformat_minor": 5
}
