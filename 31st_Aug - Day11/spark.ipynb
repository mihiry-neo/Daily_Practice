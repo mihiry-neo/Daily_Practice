{
 "cells": [
  {
   "cell_type": "code",
   "execution_count": 31,
   "id": "5aa23e41",
   "metadata": {},
   "outputs": [],
   "source": [
    "from pyspark.sql import SparkSession\n",
    "from pyspark.sql.functions import *\n",
    "from pyspark.sql.window import Window"
   ]
  },
  {
   "cell_type": "code",
   "execution_count": 32,
   "id": "eb7785fd",
   "metadata": {},
   "outputs": [],
   "source": [
    "spark = SparkSession.builder.appName(\"PySparkPrac\").getOrCreate()"
   ]
  },
  {
   "cell_type": "code",
   "execution_count": 33,
   "id": "55037337",
   "metadata": {},
   "outputs": [],
   "source": [
    "df = spark.read.option(\"header\", True).option(\"inferSchema\", True).csv(\"ecommerce_orders.csv\")"
   ]
  },
  {
   "cell_type": "code",
   "execution_count": 34,
   "id": "23958ca6",
   "metadata": {},
   "outputs": [
    {
     "name": "stdout",
     "output_type": "stream",
     "text": [
      "+--------+-----------+----------+--------+--------------+-------------------+------+--------+------------+---------+\n",
      "|order_id|customer_id|product_id|category|payment_method|         order_time| price|quantity|total_amount|   status|\n",
      "+--------+-----------+----------+--------+--------------+-------------------+------+--------+------------+---------+\n",
      "| O898230|       C187|       P40|   Books|    Debit Card|2025-08-23 00:06:00|297.45|       1|      297.45|Completed|\n",
      "| O483710|       C178|       P44|  Sports|           UPI|2025-08-24 03:01:00|478.34|       3|     1435.02|Completed|\n",
      "+--------+-----------+----------+--------+--------------+-------------------+------+--------+------------+---------+\n",
      "only showing top 2 rows\n",
      "\n"
     ]
    }
   ],
   "source": [
    "df.show(2)"
   ]
  },
  {
   "cell_type": "code",
   "execution_count": 35,
   "id": "ae6cec20",
   "metadata": {},
   "outputs": [
    {
     "name": "stdout",
     "output_type": "stream",
     "text": [
      "+--------+-----------+----------+-----------+--------------+-------------------+------+--------+------------+---------+----------+\n",
      "|order_id|customer_id|product_id|   category|payment_method|         order_time| price|quantity|total_amount|   status|      date|\n",
      "+--------+-----------+----------+-----------+--------------+-------------------+------+--------+------------+---------+----------+\n",
      "| O898230|       C187|       P40|      Books|    Debit Card|2025-08-23 00:06:00|297.45|       1|      297.45|Completed|2025-08-23|\n",
      "| O483710|       C178|       P44|     Sports|           UPI|2025-08-24 03:01:00|478.34|       3|     1435.02|Completed|2025-08-24|\n",
      "| O556243|       C139|       P46|Electronics|           UPI|2025-08-21 05:18:00|187.59|       4|      750.36|Completed|2025-08-21|\n",
      "| O745017|        C42|       P30|       Home|   Credit Card|2025-08-23 01:32:00|478.53|       4|     1914.12|Completed|2025-08-23|\n",
      "| O986474|        C79|       P23|       NULL|    Debit Card|2025-08-22 09:39:00|224.06|       1|      224.06|Completed|2025-08-22|\n",
      "+--------+-----------+----------+-----------+--------------+-------------------+------+--------+------------+---------+----------+\n",
      "only showing top 5 rows\n",
      "\n"
     ]
    }
   ],
   "source": [
    "df = df.withColumn(\"order_time\", to_timestamp(\"order_time\")).withColumn(\"date\", date_format(\"order_time\", \"yyyy-MM-dd\"))\n",
    "df.show(5)"
   ]
  },
  {
   "cell_type": "code",
   "execution_count": 36,
   "id": "162e387d",
   "metadata": {},
   "outputs": [],
   "source": [
    "df = df.fillna({\"category\":\"Unkown\", \"payment_method\":\"Unknown\"})"
   ]
  },
  {
   "cell_type": "code",
   "execution_count": 37,
   "id": "cb99fa78",
   "metadata": {},
   "outputs": [],
   "source": [
    "df = df.withColumn(\"actual_revenue\", when(col(\"status\") == \"Completed\", col(\"total_amount\")).otherwise(0))"
   ]
  },
  {
   "cell_type": "code",
   "execution_count": 38,
   "id": "35a15b31",
   "metadata": {},
   "outputs": [
    {
     "name": "stdout",
     "output_type": "stream",
     "text": [
      "+----------+------------+------------------+-----------------+------------------------+--------------------------+\n",
      "|      date|total_orders|     total_revenue|      avg_revenue|Unique_customers_per_day|Percentage_cancelled_order|\n",
      "+----------+------------+------------------+-----------------+------------------------+--------------------------+\n",
      "|2025-08-20|         300|211577.96000000005|705.2598666666669|                     163|        10.333333333333334|\n",
      "|2025-08-22|         300|         198231.27|         660.7709|                     158|         9.666666666666666|\n",
      "|2025-08-21|         300|         198488.13|         661.6271|                     164|         9.333333333333334|\n",
      "|2025-08-23|         300|226806.84000000003|756.0228000000001|                     167|         7.333333333333333|\n",
      "|2025-08-24|         300|221393.38999999993|737.9779666666665|                     154|        12.666666666666668|\n",
      "+----------+------------+------------------+-----------------+------------------------+--------------------------+\n",
      "\n"
     ]
    }
   ],
   "source": [
    "daily_metrics = df.groupBy(\"date\").agg(\n",
    "    count(\"order_id\").alias(\"total_orders\"),\n",
    "    sum(\"actual_revenue\").alias(\"total_revenue\"),\n",
    "    avg(col(\"actual_revenue\")).alias(\"avg_revenue\"),\n",
    "    countDistinct(\"customer_id\").alias(\"Unique_customers_per_day\"),\n",
    "    (sum(when(col(\"status\") == \"Cancelled\", 1).otherwise(0)) / count(\"order_id\") * 100).alias(\"Percentage_cancelled_order\")\n",
    ")\n",
    "daily_metrics.show()"
   ]
  },
  {
   "cell_type": "code",
   "execution_count": 39,
   "id": "ecd4f509",
   "metadata": {},
   "outputs": [
    {
     "name": "stdout",
     "output_type": "stream",
     "text": [
      "+----------+------------------+\n",
      "|product_id|most_sold_products|\n",
      "+----------+------------------+\n",
      "|       P12|               133|\n",
      "|       P25|               128|\n",
      "|       P36|               128|\n",
      "|       P30|               125|\n",
      "|       P22|               121|\n",
      "|        P7|               121|\n",
      "|        P3|               121|\n",
      "|       P45|               120|\n",
      "|       P23|               119|\n",
      "|       P40|               116|\n",
      "|       P19|               110|\n",
      "|       P31|               109|\n",
      "|       P43|               107|\n",
      "|       P11|               102|\n",
      "|       P13|               101|\n",
      "|       P29|                99|\n",
      "|       P27|                97|\n",
      "|       P33|                97|\n",
      "|        P2|                97|\n",
      "|       P47|                97|\n",
      "+----------+------------------+\n",
      "only showing top 20 rows\n",
      "\n"
     ]
    }
   ],
   "source": [
    "top_products = df.groupBy(\"product_id\").agg(sum(\"quantity\").alias(\"most_sold_products\")).orderBy(col(\"most_sold_products\").desc())\n",
    "top_products.show()"
   ]
  },
  {
   "cell_type": "code",
   "execution_count": 43,
   "id": "085fd8d1",
   "metadata": {},
   "outputs": [
    {
     "name": "stdout",
     "output_type": "stream",
     "text": [
      "+----------+----------+------------------+\n",
      "|      date|product_id|               rev|\n",
      "+----------+----------+------------------+\n",
      "|2025-08-22|       P26|           1328.03|\n",
      "|2025-08-22|       P38| 7517.869999999999|\n",
      "|2025-08-20|       P40|14498.219999999998|\n",
      "|2025-08-23|       P38|            532.12|\n",
      "|2025-08-23|       P15|           2352.79|\n",
      "|2025-08-20|       P23|           4673.17|\n",
      "|2025-08-23|       P18|           2541.54|\n",
      "|2025-08-23|       P46|           5322.26|\n",
      "|2025-08-24|       P47|4095.3999999999996|\n",
      "|2025-08-24|        P9|            543.26|\n",
      "|2025-08-20|        P7| 8725.320000000002|\n",
      "|2025-08-22|       P27|            3388.5|\n",
      "|2025-08-21|       P22|           8301.67|\n",
      "|2025-08-22|       P12|           5341.13|\n",
      "|2025-08-24|       P32| 8445.380000000001|\n",
      "|2025-08-21|        P5|           6317.35|\n",
      "|2025-08-24|       P40|           3313.92|\n",
      "|2025-08-21|       P36|           2514.89|\n",
      "|2025-08-22|       P18|            1887.2|\n",
      "|2025-08-22|       P24|2555.5699999999997|\n",
      "+----------+----------+------------------+\n",
      "only showing top 20 rows\n",
      "\n"
     ]
    }
   ],
   "source": [
    "highest_rev_products = df.groupBy(\"date\",\"product_id\").agg(sum(\"actual_revenue\").alias(\"rev\"))\n",
    "highest_rev_products.show()"
   ]
  },
  {
   "cell_type": "code",
   "execution_count": 45,
   "id": "66e7b82e",
   "metadata": {},
   "outputs": [
    {
     "name": "stdout",
     "output_type": "stream",
     "text": [
      "+----------+----------+------------------+---+\n",
      "|      date|product_id|               rev| rn|\n",
      "+----------+----------+------------------+---+\n",
      "|2025-08-20|       P40|14498.219999999998|  1|\n",
      "|2025-08-21|       P13|          10724.41|  1|\n",
      "|2025-08-22|       P47|           8487.88|  1|\n",
      "|2025-08-23|       P30|           9419.18|  1|\n",
      "|2025-08-24|       P30|10765.349999999999|  1|\n",
      "+----------+----------+------------------+---+\n",
      "\n"
     ]
    }
   ],
   "source": [
    "w = Window.partitionBy(\"date\").orderBy(col(\"rev\").desc())\n",
    "\n",
    "ranked_products = highest_rev_products.withColumn(\"rn\", dense_rank().over(w)).filter(col(\"rn\") == 1)\n",
    "ranked_products.show()"
   ]
  },
  {
   "cell_type": "code",
   "execution_count": 46,
   "id": "0a751a9c",
   "metadata": {},
   "outputs": [
    {
     "name": "stdout",
     "output_type": "stream",
     "text": [
      "+-----------+------------------+\n",
      "|   category|       total_sales|\n",
      "+-----------+------------------+\n",
      "|       Home|205324.75999999995|\n",
      "|     Sports|         197590.01|\n",
      "|Electronics|236803.71000000002|\n",
      "|   Clothing|208260.71999999997|\n",
      "|      Books|191035.45000000007|\n",
      "|     Unkown|          17482.94|\n",
      "+-----------+------------------+\n",
      "\n"
     ]
    }
   ],
   "source": [
    "category_dist = df.groupBy(\"category\").agg(sum(\"actual_revenue\").alias(\"total_sales\"))\n",
    "category_dist.show()"
   ]
  },
  {
   "cell_type": "code",
   "execution_count": 56,
   "id": "bf235383",
   "metadata": {},
   "outputs": [
    {
     "name": "stdout",
     "output_type": "stream",
     "text": [
      "+-----------+------------------+------------+------------------+\n",
      "|customer_id|   avg_order_value|total_orders|        total_paid|\n",
      "+-----------+------------------+------------+------------------+\n",
      "|         C1| 645.5866666666666|           9|           5810.28|\n",
      "|        C10| 638.9875000000001|           4|2555.9500000000003|\n",
      "|       C100|1192.1828571428573|           7|           8345.28|\n",
      "|       C101|         746.19125|           8|           5969.53|\n",
      "|       C102| 733.6211111111111|           9| 6602.589999999999|\n",
      "|       C103| 593.5022222222221|           9|5341.5199999999995|\n",
      "|       C104| 433.4728571428572|           7|3034.3100000000004|\n",
      "|       C105| 703.6812500000001|           8| 5629.450000000001|\n",
      "|       C106|           637.462|          10|           6374.62|\n",
      "|       C107|            894.37|           7|           6260.59|\n",
      "|       C108|1047.5745454545456|          11|11523.320000000002|\n",
      "|       C109| 766.3299999999999|           5|3831.6499999999996|\n",
      "|        C11|217.48333333333335|           9|1957.3500000000001|\n",
      "|       C110| 802.5750000000002|           6| 4815.450000000001|\n",
      "|       C111| 956.0266666666666|           6|           5736.16|\n",
      "|       C112|           363.942|           5|           1819.71|\n",
      "|       C113| 910.3385714285715|           7| 6372.370000000001|\n",
      "|       C114| 744.3422222222223|           9| 6699.080000000001|\n",
      "|       C115| 820.9283333333333|           6|           4925.57|\n",
      "|       C116|         561.48375|           8|           4491.87|\n",
      "+-----------+------------------+------------+------------------+\n",
      "only showing top 20 rows\n",
      "\n"
     ]
    }
   ],
   "source": [
    "order_totals = df.groupBy(\"customer_id\", \"order_id\").agg(\n",
    "    sum(\"actual_revenue\").alias(\"order_total\")\n",
    ")\n",
    "\n",
    "cust_insights = order_totals.groupBy(\"customer_id\").agg(\n",
    "    avg(\"order_total\").alias(\"avg_order_value\"),\n",
    "    count(\"order_id\").alias(\"total_orders\"),\n",
    "    sum(\"order_total\").alias(\"total_paid\")\n",
    ")\n",
    "cust_insights.orderBy(\"customer_id\").show()"
   ]
  },
  {
   "cell_type": "code",
   "execution_count": null,
   "id": "8de0a61f",
   "metadata": {},
   "outputs": [
    {
     "name": "stdout",
     "output_type": "stream",
     "text": [
      "+-----------+------------------+------------+------------------+\n",
      "|customer_id|   avg_order_value|total_orders|        total_paid|\n",
      "+-----------+------------------+------------+------------------+\n",
      "|        C63|1067.2341666666666|          12|          12806.81|\n",
      "|        C33|1147.8627272727272|          11|          12626.49|\n",
      "|        C54| 831.3026666666665|          15|12469.539999999997|\n",
      "|       C108|1047.5745454545456|          11|11523.320000000002|\n",
      "|        C94|  658.665882352941|          17|11197.319999999998|\n",
      "|        C45|        1374.10125|           8|          10992.81|\n",
      "|        C56|          1032.618|          10|          10326.18|\n",
      "|        C43|1069.0244444444445|           9| 9621.220000000001|\n",
      "|       C189| 857.8127272727273|          11|           9435.94|\n",
      "|       C160| 943.2560000000001|          10| 9432.560000000001|\n",
      "|        C62| 845.1899999999998|          11| 9297.089999999998|\n",
      "|       C147|           1012.51|           9|           9112.59|\n",
      "|       C175|           905.009|          10|           9050.09|\n",
      "|       C119| 975.3422222222222|           9|           8778.08|\n",
      "|        C30|1084.9962500000001|           8| 8679.970000000001|\n",
      "|       C155| 780.8009090909092|          11| 8588.810000000001|\n",
      "|       C143| 703.3116666666666|          12|           8439.74|\n",
      "|       C196|           843.235|          10|           8432.35|\n",
      "|       C100|1192.1828571428573|           7|           8345.28|\n",
      "|        C89| 630.0946153846154|          13|8191.2300000000005|\n",
      "+-----------+------------------+------------+------------------+\n",
      "only showing top 20 rows\n",
      "\n"
     ]
    }
   ],
   "source": [
    "top_cust = cust_insights.orderBy(col(\"total_paid\").desc())\n",
    "top_cust.show()"
   ]
  },
  {
   "cell_type": "code",
   "execution_count": 58,
   "id": "98d3e75c",
   "metadata": {},
   "outputs": [
    {
     "name": "stdout",
     "output_type": "stream",
     "text": [
      "+--------------+--------------+------------------+\n",
      "|payment_method|orders_per_pay|         rev_split|\n",
      "+--------------+--------------+------------------+\n",
      "|   Credit Card|           300|208856.76999999981|\n",
      "|       Unknown|            29|          15916.08|\n",
      "|        PayPal|           292|207488.95999999985|\n",
      "|          Cash|           281|199835.12000000002|\n",
      "|    Debit Card|           293|198436.87000000017|\n",
      "|           UPI|           305|225963.79000000012|\n",
      "+--------------+--------------+------------------+\n",
      "\n"
     ]
    }
   ],
   "source": [
    "payment_method_analysis = df.groupBy(\"payment_method\").agg(\n",
    "    count(\"order_id\").alias(\"orders_per_pay\"),\n",
    "    sum(\"actual_revenue\").alias(\"rev_split\")\n",
    ")\n",
    "\n",
    "payment_method_analysis.show()"
   ]
  }
 ],
 "metadata": {
  "kernelspec": {
   "display_name": "Python 3",
   "language": "python",
   "name": "python3"
  },
  "language_info": {
   "codemirror_mode": {
    "name": "ipython",
    "version": 3
   },
   "file_extension": ".py",
   "mimetype": "text/x-python",
   "name": "python",
   "nbconvert_exporter": "python",
   "pygments_lexer": "ipython3",
   "version": "3.8.10"
  }
 },
 "nbformat": 4,
 "nbformat_minor": 5
}
