{
 "cells": [
  {
   "cell_type": "code",
   "execution_count": 5,
   "id": "cdabc621",
   "metadata": {},
   "outputs": [],
   "source": [
    "from pyspark.sql import SparkSession\n",
    "from pyspark.sql.window import Window\n",
    "from pyspark.sql.functions import *\n",
    "\n",
    "spark = SparkSession.builder.appName(\"PySparkPrac\").getOrCreate()"
   ]
  },
  {
   "cell_type": "code",
   "execution_count": 6,
   "id": "a38efc62",
   "metadata": {},
   "outputs": [],
   "source": [
    "data = [\n",
    "    (\"Electronics\", \"Laptop\", 1200),\n",
    "    (\"Electronics\", \"Phone\", 900),\n",
    "    (\"Electronics\", \"Tablet\", 700),\n",
    "    (\"Clothing\", \"Shirt\", 400),\n",
    "    (\"Clothing\", \"Jeans\", 600),\n",
    "    (\"Clothing\", \"Jacket\", 800)\n",
    "]\n",
    "\n",
    "columns = [\"category\", \"product\", \"sales\"]\n",
    "df = spark.createDataFrame(data, columns)"
   ]
  },
  {
   "cell_type": "code",
   "execution_count": 7,
   "id": "06c0df70",
   "metadata": {},
   "outputs": [],
   "source": [
    "w = Window.partitionBy(\"category\").orderBy(df.sales.desc())\n",
    "df = df.withColumn(\"rank\", row_number().over(w))"
   ]
  },
  {
   "cell_type": "code",
   "execution_count": 8,
   "id": "0b145e04",
   "metadata": {},
   "outputs": [
    {
     "name": "stdout",
     "output_type": "stream",
     "text": [
      "+-----------+-------+-----+\n",
      "|   category|product|sales|\n",
      "+-----------+-------+-----+\n",
      "|   Clothing| Jacket|  800|\n",
      "|   Clothing|  Jeans|  600|\n",
      "|Electronics| Laptop| 1200|\n",
      "|Electronics|  Phone|  900|\n",
      "+-----------+-------+-----+\n",
      "\n"
     ]
    }
   ],
   "source": [
    "df.filter(df.rank <= 2).drop(\"rank\").show()"
   ]
  },
  {
   "cell_type": "code",
   "execution_count": 9,
   "id": "faa27c78",
   "metadata": {},
   "outputs": [],
   "source": [
    "data = [\n",
    "    (1, \"2025-01-01\", 500),\n",
    "    (1, \"2025-01-03\", -200),\n",
    "    (1, \"2025-01-05\", 300),\n",
    "    (2, \"2025-01-02\", 1000),\n",
    "    (2, \"2025-01-04\", -400),\n",
    "]\n",
    "\n",
    "columns = [\"user_id\", \"txn_date\", \"amount\"]\n",
    "df = spark.createDataFrame(data, columns)\n"
   ]
  },
  {
   "cell_type": "code",
   "execution_count": 12,
   "id": "46d3ab80",
   "metadata": {},
   "outputs": [
    {
     "name": "stdout",
     "output_type": "stream",
     "text": [
      "+-------+----------+------+---------------+\n",
      "|user_id|  txn_date|amount|running_balance|\n",
      "+-------+----------+------+---------------+\n",
      "|      1|2025-01-01|   500|            500|\n",
      "|      1|2025-01-03|  -200|            300|\n",
      "|      1|2025-01-05|   300|            600|\n",
      "|      2|2025-01-02|  1000|           1000|\n",
      "|      2|2025-01-04|  -400|            600|\n",
      "+-------+----------+------+---------------+\n",
      "\n"
     ]
    }
   ],
   "source": [
    "w = Window.partitionBy(\"user_id\").orderBy(\"txn_date\").rowsBetween(Window.unboundedPreceding, Window.currentRow)\n",
    "running_balance_df = df.withColumn(\"running_balance\", sum(\"amount\").over(w))\n",
    "running_balance_df.show()"
   ]
  }
 ],
 "metadata": {
  "kernelspec": {
   "display_name": "Python 3",
   "language": "python",
   "name": "python3"
  },
  "language_info": {
   "codemirror_mode": {
    "name": "ipython",
    "version": 3
   },
   "file_extension": ".py",
   "mimetype": "text/x-python",
   "name": "python",
   "nbconvert_exporter": "python",
   "pygments_lexer": "ipython3",
   "version": "3.11.5"
  }
 },
 "nbformat": 4,
 "nbformat_minor": 5
}
