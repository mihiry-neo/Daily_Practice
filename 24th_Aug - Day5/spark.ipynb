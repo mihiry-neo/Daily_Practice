{
 "cells": [
  {
   "cell_type": "code",
   "execution_count": 16,
   "id": "1c04d36f",
   "metadata": {},
   "outputs": [],
   "source": [
    "from pyspark.sql import SparkSession\n",
    "from pyspark.sql.functions import *"
   ]
  },
  {
   "cell_type": "code",
   "execution_count": 17,
   "id": "cc84673f",
   "metadata": {},
   "outputs": [],
   "source": [
    "spark = SparkSession.builder.appName(\"PySparkPrac\").getOrCreate()"
   ]
  },
  {
   "cell_type": "code",
   "execution_count": 18,
   "id": "0d702314",
   "metadata": {},
   "outputs": [],
   "source": [
    "data = [\n",
    "    (\"Laptop\", 1200),\n",
    "    (\"Phone\", 800),\n",
    "    (\"Tablet\", 500),\n",
    "    (\"Desktop\", 500)\n",
    "]\n",
    "columns = [\"product\", \"sales\"]\n",
    "\n",
    "df = spark.createDataFrame(data, columns)"
   ]
  },
  {
   "cell_type": "code",
   "execution_count": 19,
   "id": "836d0226",
   "metadata": {},
   "outputs": [],
   "source": [
    "tot_sales = df.agg(sum(\"sales\").alias(\"total_sales\")).first()[\"total_sales\"]"
   ]
  },
  {
   "cell_type": "code",
   "execution_count": 20,
   "id": "5e0c4a76",
   "metadata": {},
   "outputs": [
    {
     "data": {
      "text/plain": [
       "3000"
      ]
     },
     "execution_count": 20,
     "metadata": {},
     "output_type": "execute_result"
    }
   ],
   "source": [
    "tot_sales"
   ]
  },
  {
   "cell_type": "code",
   "execution_count": 21,
   "id": "20632748",
   "metadata": {},
   "outputs": [],
   "source": [
    "df = df.withColumn(\"percentage_contribution\", round((col(\"sales\")/ tot_sales) * 100,1))"
   ]
  },
  {
   "cell_type": "code",
   "execution_count": 22,
   "id": "a1196be8",
   "metadata": {},
   "outputs": [
    {
     "name": "stdout",
     "output_type": "stream",
     "text": [
      "+-------+-----+-----------------------+\n",
      "|product|sales|percentage_contribution|\n",
      "+-------+-----+-----------------------+\n",
      "| Laptop| 1200|                   40.0|\n",
      "|  Phone|  800|                   26.7|\n",
      "| Tablet|  500|                   16.7|\n",
      "|Desktop|  500|                   16.7|\n",
      "+-------+-----+-----------------------+\n",
      "\n"
     ]
    }
   ],
   "source": [
    "df.show()"
   ]
  },
  {
   "cell_type": "code",
   "execution_count": null,
   "id": "a266d8a2",
   "metadata": {},
   "outputs": [],
   "source": []
  }
 ],
 "metadata": {
  "kernelspec": {
   "display_name": "Python 3",
   "language": "python",
   "name": "python3"
  },
  "language_info": {
   "codemirror_mode": {
    "name": "ipython",
    "version": 3
   },
   "file_extension": ".py",
   "mimetype": "text/x-python",
   "name": "python",
   "nbconvert_exporter": "python",
   "pygments_lexer": "ipython3",
   "version": "3.8.10"
  }
 },
 "nbformat": 4,
 "nbformat_minor": 5
}
