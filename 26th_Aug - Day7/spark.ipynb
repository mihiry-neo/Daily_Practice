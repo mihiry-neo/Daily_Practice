{
 "cells": [
  {
   "cell_type": "code",
   "execution_count": 1,
   "id": "6e49a4b4",
   "metadata": {},
   "outputs": [],
   "source": [
    "from pyspark.sql import SparkSession\n",
    "from pyspark.sql.functions import *\n",
    "from pyspark.sql.window import Window"
   ]
  },
  {
   "cell_type": "code",
   "execution_count": 3,
   "id": "4f99eac4",
   "metadata": {},
   "outputs": [
    {
     "name": "stderr",
     "output_type": "stream",
     "text": [
      "25/08/26 11:17:16 WARN Utils: Your hostname, neosoft-Latitude-5420 resolves to a loopback address: 127.0.1.1; using 10.0.61.246 instead (on interface wlp0s20f3)\n",
      "25/08/26 11:17:16 WARN Utils: Set SPARK_LOCAL_IP if you need to bind to another address\n",
      "Setting default log level to \"WARN\".\n",
      "To adjust logging level use sc.setLogLevel(newLevel). For SparkR, use setLogLevel(newLevel).\n",
      "25/08/26 11:17:16 WARN NativeCodeLoader: Unable to load native-hadoop library for your platform... using builtin-java classes where applicable\n"
     ]
    }
   ],
   "source": [
    "spark = SparkSession.builder.appName(\"PySparkPrac\").getOrCreate()"
   ]
  },
  {
   "cell_type": "code",
   "execution_count": 4,
   "id": "f8be632d",
   "metadata": {},
   "outputs": [],
   "source": [
    "data = [\n",
    "    (\"U1\", \"2025-01-01\"),\n",
    "    (\"U1\", \"2025-01-05\"),\n",
    "    (\"U1\", \"2025-01-10\"),\n",
    "    (\"U2\", \"2025-01-02\"),\n",
    "    (\"U2\", \"2025-01-04\")\n",
    "]\n",
    "\n",
    "columns = ['user_id','session_date']\n",
    "df = spark.createDataFrame(data, columns)"
   ]
  },
  {
   "cell_type": "code",
   "execution_count": 5,
   "id": "cbef0d92",
   "metadata": {},
   "outputs": [],
   "source": [
    "df = df.withColumn(\"session_date\", to_date(\"session_date\"))"
   ]
  },
  {
   "cell_type": "code",
   "execution_count": 6,
   "id": "fe83048e",
   "metadata": {},
   "outputs": [
    {
     "name": "stderr",
     "output_type": "stream",
     "text": [
      "                                                                                \r"
     ]
    },
    {
     "name": "stdout",
     "output_type": "stream",
     "text": [
      "+-------+------------+\n",
      "|user_id|session_date|\n",
      "+-------+------------+\n",
      "|     U1|  2025-01-01|\n",
      "|     U1|  2025-01-05|\n",
      "|     U1|  2025-01-10|\n",
      "|     U2|  2025-01-02|\n",
      "|     U2|  2025-01-04|\n",
      "+-------+------------+\n",
      "\n"
     ]
    }
   ],
   "source": [
    "df.show()"
   ]
  },
  {
   "cell_type": "code",
   "execution_count": 8,
   "id": "f1fbf5a5",
   "metadata": {},
   "outputs": [],
   "source": [
    "w = Window.partitionBy(\"user_id\").orderBy(\"session_date\")\n",
    "\n",
    "lag_df = df.withColumn(\"prev_session_date\", lag(\"session_date\").over(w))"
   ]
  },
  {
   "cell_type": "code",
   "execution_count": 9,
   "id": "6df40183",
   "metadata": {},
   "outputs": [
    {
     "name": "stdout",
     "output_type": "stream",
     "text": [
      "+-------+------------+-----------------+\n",
      "|user_id|session_date|prev_session_date|\n",
      "+-------+------------+-----------------+\n",
      "|     U1|  2025-01-01|             NULL|\n",
      "|     U1|  2025-01-05|       2025-01-01|\n",
      "|     U1|  2025-01-10|       2025-01-05|\n",
      "|     U2|  2025-01-02|             NULL|\n",
      "|     U2|  2025-01-04|       2025-01-02|\n",
      "+-------+------------+-----------------+\n",
      "\n"
     ]
    }
   ],
   "source": [
    "lag_df.show()"
   ]
  },
  {
   "cell_type": "code",
   "execution_count": 12,
   "id": "507339e9",
   "metadata": {},
   "outputs": [],
   "source": [
    "session_gaps = lag_df.withColumn(\"days_since_last_session\", date_diff(\"session_date\",\"prev_session_date\")).drop(\"prev_session_date\")"
   ]
  },
  {
   "cell_type": "code",
   "execution_count": 13,
   "id": "df71503e",
   "metadata": {},
   "outputs": [
    {
     "name": "stdout",
     "output_type": "stream",
     "text": [
      "+-------+------------+-----------------------+\n",
      "|user_id|session_date|days_since_last_session|\n",
      "+-------+------------+-----------------------+\n",
      "|     U1|  2025-01-01|                   NULL|\n",
      "|     U1|  2025-01-05|                      4|\n",
      "|     U1|  2025-01-10|                      5|\n",
      "|     U2|  2025-01-02|                   NULL|\n",
      "|     U2|  2025-01-04|                      2|\n",
      "+-------+------------+-----------------------+\n",
      "\n"
     ]
    }
   ],
   "source": [
    "session_gaps.show()"
   ]
  },
  {
   "cell_type": "code",
   "execution_count": 16,
   "id": "efab7738",
   "metadata": {},
   "outputs": [],
   "source": [
    "data = [\n",
    "    (\"C1\", \"2025-01-01\", 200),\n",
    "(\"C1\", \"2025-01-10\", 300),\n",
    "(\"C2\", \"2025-01-05\", 150),\n",
    "(\"C3\", \"2025-01-02\", 100),\n",
    "(\"C3\", \"2025-01-04\", 200),\n",
    "]\n",
    "\n",
    "columns = [\"customer_id\", \"purchase_date\", \"amount\"]\n",
    "purchases = spark.createDataFrame(data, columns)"
   ]
  },
  {
   "cell_type": "code",
   "execution_count": 18,
   "id": "393c4439",
   "metadata": {},
   "outputs": [],
   "source": [
    "purchases = purchases.withColumn(\"purchase_date\", to_date(\"purchase_date\"))\n",
    "purchases.createOrReplaceTempView(\"purchases\")\n"
   ]
  },
  {
   "cell_type": "code",
   "execution_count": 22,
   "id": "88da0464",
   "metadata": {},
   "outputs": [],
   "source": [
    "result = spark.sql('''\n",
    "select customer_id from purchases group by customer_id having count(*) = 1\n",
    "''')"
   ]
  },
  {
   "cell_type": "code",
   "execution_count": 23,
   "id": "4c81532d",
   "metadata": {},
   "outputs": [
    {
     "name": "stdout",
     "output_type": "stream",
     "text": [
      "+-----------+\n",
      "|customer_id|\n",
      "+-----------+\n",
      "|         C2|\n",
      "+-----------+\n",
      "\n"
     ]
    }
   ],
   "source": [
    "result.show()"
   ]
  }
 ],
 "metadata": {
  "kernelspec": {
   "display_name": "Python 3",
   "language": "python",
   "name": "python3"
  },
  "language_info": {
   "codemirror_mode": {
    "name": "ipython",
    "version": 3
   },
   "file_extension": ".py",
   "mimetype": "text/x-python",
   "name": "python",
   "nbconvert_exporter": "python",
   "pygments_lexer": "ipython3",
   "version": "3.8.10"
  }
 },
 "nbformat": 4,
 "nbformat_minor": 5
}
