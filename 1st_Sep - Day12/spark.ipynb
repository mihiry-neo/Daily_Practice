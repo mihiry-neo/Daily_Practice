{
 "cells": [
  {
   "cell_type": "code",
   "execution_count": 1,
   "id": "03be3eb6",
   "metadata": {},
   "outputs": [],
   "source": [
    "from pyspark.sql import SparkSession\n",
    "from pyspark.sql.functions import *\n",
    "from pyspark.sql.window import Window"
   ]
  },
  {
   "cell_type": "code",
   "execution_count": 2,
   "id": "c91608d7",
   "metadata": {},
   "outputs": [
    {
     "name": "stderr",
     "output_type": "stream",
     "text": [
      "25/09/02 14:12:13 WARN Utils: Your hostname, neosoft-Latitude-5420 resolves to a loopback address: 127.0.1.1; using 10.0.61.246 instead (on interface wlp0s20f3)\n",
      "25/09/02 14:12:13 WARN Utils: Set SPARK_LOCAL_IP if you need to bind to another address\n",
      "Setting default log level to \"WARN\".\n",
      "To adjust logging level use sc.setLogLevel(newLevel). For SparkR, use setLogLevel(newLevel).\n",
      "25/09/02 14:12:14 WARN NativeCodeLoader: Unable to load native-hadoop library for your platform... using builtin-java classes where applicable\n"
     ]
    }
   ],
   "source": [
    "spark = SparkSession.builder.appName(\"PySparkPrac\").getOrCreate()"
   ]
  },
  {
   "cell_type": "code",
   "execution_count": 7,
   "id": "9298e8d9",
   "metadata": {},
   "outputs": [],
   "source": [
    "df = spark.read.option(\"header\", True).option(\"inferSchema\", True).csv(\"online_learning_activity.csv\")"
   ]
  },
  {
   "cell_type": "code",
   "execution_count": 8,
   "id": "e6622019",
   "metadata": {},
   "outputs": [],
   "source": [
    "df = df.withColumn(\"activity_time\", to_timestamp(\"activity_time\")).withColumn(\"date\", date_format(\"activity_time\", \"yyyy-MM-dd\"))"
   ]
  },
  {
   "cell_type": "code",
   "execution_count": 9,
   "id": "dc4cdf01",
   "metadata": {},
   "outputs": [
    {
     "name": "stdout",
     "output_type": "stream",
     "text": [
      "+-----------+----------+---------+---------------+-------------------+-------+---------+----------------+----------+\n",
      "|activity_id|student_id|course_id|  activity_type|      activity_time| device| location|duration_minutes|      date|\n",
      "+-----------+----------+---------+---------------+-------------------+-------+---------+----------------+----------+\n",
      "|    A274850|       S27|      C13|Complete_Course|2025-08-21 08:20:00| Tablet|   Canada|            NULL|2025-08-21|\n",
      "|    A110285|       S25|       C8|     Forum_Post|2025-08-21 06:09:00| Tablet|   Canada|            NULL|2025-08-21|\n",
      "|    A490154|       S72|      C15|    Watch_Video|2025-08-26 13:36:00|Desktop|      USA|            33.0|2025-08-26|\n",
      "|    A618340|      S100|      C18|          Login|2025-08-25 13:38:00| Mobile|       UK|            NULL|2025-08-25|\n",
      "|    A245486|      S126|      C10|          Login|2025-08-25 10:14:00|Desktop|    India|            NULL|2025-08-25|\n",
      "|    A847712|        S7|      C17|          Login|2025-08-26 15:51:00| Mobile|      USA|            NULL|2025-08-26|\n",
      "|    A884575|      S120|      C16|    Watch_Video|2025-08-21 17:54:00| Mobile|Australia|            29.0|2025-08-21|\n",
      "|    A250169|      S105|      C10|Complete_Course|2025-08-22 06:18:00| Mobile|       UK|            NULL|2025-08-22|\n",
      "|    A338620|       S15|      C14|          Login|2025-08-22 04:08:00| Tablet|       UK|            NULL|2025-08-22|\n",
      "|    A502175|      S118|       C4|   Attempt_Quiz|2025-08-23 15:17:00| Tablet|   Canada|            22.0|2025-08-23|\n",
      "|    A741978|      S108|      C11|    Watch_Video|2025-08-24 04:58:00| Tablet|Australia|             1.0|2025-08-24|\n",
      "|    A757951|       S19|      C15|Complete_Course|2025-08-20 18:57:00|Desktop|    India|            NULL|2025-08-20|\n",
      "|    A952084|       S87|      C15|          Login|2025-08-22 00:44:00| Tablet|Australia|            NULL|2025-08-22|\n",
      "|    A593317|       S71|      C12|Complete_Course|2025-08-23 09:28:00| Tablet|Australia|            NULL|2025-08-23|\n",
      "|    A479991|        S3|      C20|     Forum_Post|2025-08-20 15:31:00| Tablet|       UK|            NULL|2025-08-20|\n",
      "|    A941776|       S75|      C15|Complete_Course|2025-08-23 17:39:00| Tablet|      USA|            NULL|2025-08-23|\n",
      "|    A878883|       S35|      C15|   Attempt_Quiz|2025-08-22 22:11:00| Mobile|    India|            15.0|2025-08-22|\n",
      "|    A297561|      S133|      C19|Complete_Course|2025-08-20 05:45:00| Mobile|     NULL|            NULL|2025-08-20|\n",
      "|    A311313|      S142|      C12|Complete_Course|2025-08-21 00:20:00|Desktop|       UK|            NULL|2025-08-21|\n",
      "|    A643678|       S60|       C5|Complete_Course|2025-08-24 12:38:00| Tablet|    India|            NULL|2025-08-24|\n",
      "+-----------+----------+---------+---------------+-------------------+-------+---------+----------------+----------+\n",
      "only showing top 20 rows\n",
      "\n"
     ]
    }
   ],
   "source": [
    "df.show()"
   ]
  },
  {
   "cell_type": "code",
   "execution_count": 19,
   "id": "8536ac7b",
   "metadata": {},
   "outputs": [
    {
     "data": {
      "text/plain": [
       "0"
      ]
     },
     "execution_count": 19,
     "metadata": {},
     "output_type": "execute_result"
    }
   ],
   "source": [
    "df.filter(col(\"device\").isNull()).count()"
   ]
  },
  {
   "cell_type": "code",
   "execution_count": 20,
   "id": "c7e64cca",
   "metadata": {},
   "outputs": [
    {
     "data": {
      "text/plain": [
       "0"
      ]
     },
     "execution_count": 20,
     "metadata": {},
     "output_type": "execute_result"
    }
   ],
   "source": [
    "df.filter(col(\"location\").isNull()).count()"
   ]
  },
  {
   "cell_type": "code",
   "execution_count": 26,
   "id": "55a92812",
   "metadata": {},
   "outputs": [
    {
     "data": {
      "text/plain": [
       "0"
      ]
     },
     "execution_count": 26,
     "metadata": {},
     "output_type": "execute_result"
    }
   ],
   "source": [
    "df.filter(col(\"duration_minutes\").isNull()).count()"
   ]
  },
  {
   "cell_type": "code",
   "execution_count": 25,
   "id": "519e44fb",
   "metadata": {},
   "outputs": [],
   "source": [
    "df = df.fillna({\"device\":\"Unknown\", \"location\":\"Unknown\", \"duration_minutes\":0})"
   ]
  },
  {
   "cell_type": "code",
   "execution_count": null,
   "id": "3dc0976d",
   "metadata": {},
   "outputs": [
    {
     "name": "stdout",
     "output_type": "stream",
     "text": [
      "+----------+----------------------------+------------------------+----------------------------+\n",
      "|      date|Total_active_student_per_day|Total_activities_per_day|Avg_session_duration_per_day|\n",
      "+----------+----------------------------+------------------------+----------------------------+\n",
      "|2025-08-20|                         400|                     400|                     10.5475|\n",
      "|2025-08-25|                         400|                     400|                      13.825|\n",
      "|2025-08-22|                         400|                     400|                     11.1625|\n",
      "|2025-08-21|                         400|                     400|                       12.49|\n",
      "|2025-08-23|                         400|                     400|                       12.08|\n",
      "|2025-08-27|                           1|                       1|                         9.0|\n",
      "|2025-08-24|                         400|                     400|                      11.785|\n",
      "|2025-08-26|                         399|                     399|          11.220551378446116|\n",
      "+----------+----------------------------+------------------------+----------------------------+\n",
      "\n"
     ]
    }
   ],
   "source": [
    "daily_metrics = df.groupBy(\"date\").agg(\n",
    "    count(\"student_id\").alias(\"Total_active_student_per_day\"),\n",
    "    count(\"activity_id\").alias(\"Total_activities_per_day\"),\n",
    "    avg(\"duration_minutes\").alias(\"Avg_session_duration_per_day\")\n",
    ")\n",
    "daily_metrics.show()"
   ]
  },
  {
   "cell_type": "code",
   "execution_count": 33,
   "id": "9c9c7d38",
   "metadata": {},
   "outputs": [
    {
     "name": "stdout",
     "output_type": "stream",
     "text": [
      "+-------+----------------+\n",
      "| device|distribution_amt|\n",
      "+-------+----------------+\n",
      "|Unknown|              65|\n",
      "| Mobile|             896|\n",
      "| Tablet|             958|\n",
      "|Desktop|             881|\n",
      "+-------+----------------+\n",
      "\n"
     ]
    }
   ],
   "source": [
    "device = df.groupBy(\"device\").agg(count(\"*\").alias(\"distribution_amt\"))\n",
    "device.show()"
   ]
  },
  {
   "cell_type": "code",
   "execution_count": 34,
   "id": "5f7eb0cf",
   "metadata": {},
   "outputs": [
    {
     "name": "stdout",
     "output_type": "stream",
     "text": [
      "+---------+----------------+\n",
      "| location|distribution_amt|\n",
      "+---------+----------------+\n",
      "|    India|             545|\n",
      "|  Unknown|              63|\n",
      "|      USA|             560|\n",
      "|       UK|             568|\n",
      "|   Canada|             527|\n",
      "|Australia|             537|\n",
      "+---------+----------------+\n",
      "\n"
     ]
    }
   ],
   "source": [
    "loc = df.groupBy(\"location\").agg(count(\"*\").alias(\"distribution_amt\"))\n",
    "loc.show()"
   ]
  },
  {
   "cell_type": "code",
   "execution_count": 51,
   "id": "70ff69d9",
   "metadata": {},
   "outputs": [
    {
     "name": "stdout",
     "output_type": "stream",
     "text": [
      "+---------+----------------------+---------------+\n",
      "|course_id|Course_completion_rate|engagement_time|\n",
      "+---------+----------------------+---------------+\n",
      "|      C10|    21.341463414634145|         2222.0|\n",
      "|      C15|     22.07792207792208|         2086.0|\n",
      "|       C5|     20.37037037037037|         2058.0|\n",
      "|      C20|                  20.0|         1965.0|\n",
      "|      C17|    17.006802721088434|         1886.0|\n",
      "|      C18|     24.82758620689655|         1867.0|\n",
      "|       C3|     23.78048780487805|         1860.0|\n",
      "|       C7|    10.948905109489052|         1819.0|\n",
      "|      C11|     20.27972027972028|         1773.0|\n",
      "|       C6|    18.939393939393938|         1768.0|\n",
      "|      C14|     18.84057971014493|         1767.0|\n",
      "|      C13|    19.148936170212767|         1518.0|\n",
      "|       C1|    19.696969696969695|         1482.0|\n",
      "|       C4|     20.66115702479339|         1427.0|\n",
      "|      C16|                  20.0|         1405.0|\n",
      "|       C8|     21.21212121212121|         1404.0|\n",
      "|       C2|     18.30985915492958|         1301.0|\n",
      "|      C12|    26.666666666666668|         1290.0|\n",
      "|      C19|    23.972602739726025|         1266.0|\n",
      "|       C9|    16.363636363636363|         1078.0|\n",
      "+---------+----------------------+---------------+\n",
      "\n"
     ]
    }
   ],
   "source": [
    "course_metrics = df.groupBy(\"course_id\").agg(\n",
    "    (sum(when(col(\"activity_type\") == \"Complete_Course\",1).otherwise(0)) / count(\"*\") * 100).alias(\"Course_completion_rate\"),\n",
    "    (sum(\"duration_minutes\").alias(\"engagement_time\")))\n",
    "course_metrics.orderBy(col(\"engagement_time\").desc()).show()"
   ]
  },
  {
   "cell_type": "code",
   "execution_count": 55,
   "id": "b2a5b1bd",
   "metadata": {},
   "outputs": [
    {
     "name": "stdout",
     "output_type": "stream",
     "text": [
      "+---------+----------+---------------+\n",
      "|course_id|      date|Unique_Students|\n",
      "+---------+----------+---------------+\n",
      "|       C1|2025-08-20|             18|\n",
      "|      C10|2025-08-20|             17|\n",
      "|      C11|2025-08-20|             23|\n",
      "|      C12|2025-08-20|             17|\n",
      "|      C13|2025-08-20|             13|\n",
      "|      C14|2025-08-20|             22|\n",
      "|      C15|2025-08-20|             26|\n",
      "|      C16|2025-08-20|             16|\n",
      "|      C17|2025-08-20|             22|\n",
      "|      C18|2025-08-20|             31|\n",
      "|      C19|2025-08-20|             17|\n",
      "|       C2|2025-08-20|             13|\n",
      "|      C20|2025-08-20|             17|\n",
      "|       C3|2025-08-20|             24|\n",
      "|       C4|2025-08-20|             19|\n",
      "|       C5|2025-08-20|             24|\n",
      "|       C6|2025-08-20|             16|\n",
      "|       C7|2025-08-20|             12|\n",
      "|       C8|2025-08-20|             15|\n",
      "|       C9|2025-08-20|             14|\n",
      "+---------+----------+---------------+\n",
      "only showing top 20 rows\n",
      "\n"
     ]
    }
   ],
   "source": [
    "unique_std = df.groupBy(\"course_id\",\"date\").agg(countDistinct(\"student_id\").alias(\"Unique_Students\"))\n",
    "unique_std.orderBy(\"date\",\"course_id\").show()"
   ]
  },
  {
   "cell_type": "code",
   "execution_count": 57,
   "id": "7797b8fc",
   "metadata": {},
   "outputs": [
    {
     "name": "stdout",
     "output_type": "stream",
     "text": [
      "+----------+----------+-------------------+\n",
      "|student_id|      date|avg_std_per_std_day|\n",
      "+----------+----------+-------------------+\n",
      "|        S1|2025-08-20|                0.0|\n",
      "|       S10|2025-08-20|                0.0|\n",
      "|      S100|2025-08-20|                0.0|\n",
      "|      S101|2025-08-20|               13.8|\n",
      "|      S103|2025-08-20|                0.0|\n",
      "|      S105|2025-08-20| 15.666666666666666|\n",
      "|      S106|2025-08-20|               56.0|\n",
      "|      S107|2025-08-20|                0.0|\n",
      "|      S108|2025-08-20|                0.0|\n",
      "|      S109|2025-08-20|                0.0|\n",
      "|       S11|2025-08-20|               9.75|\n",
      "|      S110|2025-08-20| 17.333333333333332|\n",
      "|      S111|2025-08-20|                3.0|\n",
      "|      S112|2025-08-20|  6.571428571428571|\n",
      "|      S113|2025-08-20|                0.0|\n",
      "|      S114|2025-08-20|               23.0|\n",
      "|      S115|2025-08-20|               18.0|\n",
      "|      S116|2025-08-20|                3.5|\n",
      "|      S117|2025-08-20|                4.0|\n",
      "|      S118|2025-08-20|                2.0|\n",
      "+----------+----------+-------------------+\n",
      "only showing top 20 rows\n",
      "\n"
     ]
    }
   ],
   "source": [
    "std_behavior_metrics = df.groupBy(\"student_id\",\"date\").agg(\n",
    "    avg(\"duration_minutes\").alias(\"avg_std_per_std_day\")\n",
    ")\n",
    "std_behavior_metrics.orderBy(\"date\",\"student_id\").show()"
   ]
  },
  {
   "cell_type": "code",
   "execution_count": 61,
   "id": "38ec1339",
   "metadata": {},
   "outputs": [
    {
     "name": "stdout",
     "output_type": "stream",
     "text": [
      "+----------+-----------------------+\n",
      "|student_id|num_quizzes_per_student|\n",
      "+----------+-----------------------+\n",
      "|       S68|                     14|\n",
      "|       S39|                     21|\n",
      "|       S60|                     17|\n",
      "|      S149|                     19|\n",
      "|      S105|                     18|\n",
      "|       S10|                     20|\n",
      "|      S148|                     24|\n",
      "|       S27|                     15|\n",
      "|        S6|                     23|\n",
      "|      S106|                     18|\n",
      "|      S102|                     16|\n",
      "|       S94|                     22|\n",
      "|        S8|                     17|\n",
      "|       S32|                     18|\n",
      "|        S7|                     19|\n",
      "|       S30|                     18|\n",
      "|      S104|                     16|\n",
      "|      S120|                     15|\n",
      "|       S56|                     28|\n",
      "|       S76|                     20|\n",
      "+----------+-----------------------+\n",
      "only showing top 20 rows\n",
      "\n"
     ]
    }
   ],
   "source": [
    "quizzes = df.groupBy(\"student_id\").agg(count(when(col(\"activity_type\") == \"Attempt_Quiz\", 1).otherwise(0)).alias(\"num_quizzes_per_student\"))\n",
    "quizzes.show()"
   ]
  },
  {
   "cell_type": "code",
   "execution_count": 66,
   "id": "aa1baeac",
   "metadata": {},
   "outputs": [],
   "source": [
    "df = df.withColumn(\"year\", year(\"activity_time\")).withColumn(\"week\", weekofyear(\"activity_time\"))"
   ]
  },
  {
   "cell_type": "code",
   "execution_count": 67,
   "id": "0b51209d",
   "metadata": {},
   "outputs": [
    {
     "name": "stdout",
     "output_type": "stream",
     "text": [
      "+----------+----+----+-----------------+\n",
      "|student_id|year|week|courses_completed|\n",
      "+----------+----+----+-----------------+\n",
      "|      S101|2025|  35|                1|\n",
      "|        S8|2025|  34|                4|\n",
      "|       S95|2025|  34|                1|\n",
      "|       S11|2025|  35|                1|\n",
      "|       S18|2025|  35|                2|\n",
      "|      S117|2025|  35|                2|\n",
      "|       S28|2025|  34|                3|\n",
      "|       S37|2025|  35|                1|\n",
      "|       S41|2025|  34|                5|\n",
      "|       S78|2025|  35|                1|\n",
      "|      S144|2025|  35|                1|\n",
      "|      S126|2025|  34|                2|\n",
      "|      S130|2025|  35|                1|\n",
      "|      S140|2025|  34|                1|\n",
      "|      S110|2025|  35|                1|\n",
      "|      S129|2025|  35|                1|\n",
      "|      S142|2025|  34|                5|\n",
      "|       S50|2025|  35|                1|\n",
      "|      S104|2025|  34|                1|\n",
      "|       S29|2025|  34|                3|\n",
      "+----------+----+----+-----------------+\n",
      "only showing top 20 rows\n",
      "\n"
     ]
    }
   ],
   "source": [
    "completed = df.filter(col(\"activity_type\") == \"Complete_Course\")\n",
    "student_weekly_completions = completed.groupBy(\"student_id\", \"year\", \"week\").agg(\n",
    "    countDistinct(\"course_id\").alias(\"courses_completed\"))\n",
    "\n",
    "student_weekly_completions.filter(col(\"courses_completed\") >= 1).show()"
   ]
  }
 ],
 "metadata": {
  "kernelspec": {
   "display_name": "Python 3",
   "language": "python",
   "name": "python3"
  },
  "language_info": {
   "codemirror_mode": {
    "name": "ipython",
    "version": 3
   },
   "file_extension": ".py",
   "mimetype": "text/x-python",
   "name": "python",
   "nbconvert_exporter": "python",
   "pygments_lexer": "ipython3",
   "version": "3.8.10"
  }
 },
 "nbformat": 4,
 "nbformat_minor": 5
}
