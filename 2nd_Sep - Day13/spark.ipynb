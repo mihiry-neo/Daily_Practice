{
 "cells": [
  {
   "cell_type": "code",
   "execution_count": 1,
   "id": "e1bab128",
   "metadata": {},
   "outputs": [],
   "source": [
    "from pyspark.sql import SparkSession\n",
    "from pyspark.sql.functions import *\n",
    "from pyspark.sql.window import Window"
   ]
  },
  {
   "cell_type": "code",
   "execution_count": 2,
   "id": "99583a3e",
   "metadata": {},
   "outputs": [
    {
     "name": "stderr",
     "output_type": "stream",
     "text": [
      "25/09/02 17:13:09 WARN Utils: Your hostname, neosoft-Latitude-5420 resolves to a loopback address: 127.0.1.1; using 10.0.61.246 instead (on interface wlp0s20f3)\n",
      "25/09/02 17:13:09 WARN Utils: Set SPARK_LOCAL_IP if you need to bind to another address\n",
      "Setting default log level to \"WARN\".\n",
      "To adjust logging level use sc.setLogLevel(newLevel). For SparkR, use setLogLevel(newLevel).\n",
      "25/09/02 17:13:09 WARN NativeCodeLoader: Unable to load native-hadoop library for your platform... using builtin-java classes where applicable\n"
     ]
    }
   ],
   "source": [
    "spark = SparkSession.builder.appName(\"PySparkPrac\").getOrCreate()"
   ]
  },
  {
   "cell_type": "code",
   "execution_count": 5,
   "id": "0b9f0838",
   "metadata": {},
   "outputs": [],
   "source": [
    "data = [(\"Laptop\", \"2025-01-01\", 100),\n",
    "(\"Laptop\", \"2025-01-02\", 250),\n",
    "(\"Laptop\", \"2025-01-03\", 200),\n",
    "(\"Phone\", \"2025-01-01\", 300),\n",
    "(\"Phone\", \"2025-01-02\", 150),\n",
    "(\"Phone\", \"2025-01-03\", 400)\n",
    "]\n",
    "\n",
    "columns = [\"product\", \"sale_date\", \"sales\"]\n",
    "\n",
    "df = spark.createDataFrame(data, columns)"
   ]
  },
  {
   "cell_type": "code",
   "execution_count": 7,
   "id": "ecfc94c7",
   "metadata": {},
   "outputs": [
    {
     "data": {
      "text/plain": [
       "DataFrame[product: string, sale_date: date, sales: bigint]"
      ]
     },
     "execution_count": 7,
     "metadata": {},
     "output_type": "execute_result"
    }
   ],
   "source": [
    "df.withColumn(\"sale_date\", to_date(\"sale_date\"))"
   ]
  },
  {
   "cell_type": "code",
   "execution_count": 8,
   "id": "898035ab",
   "metadata": {},
   "outputs": [
    {
     "name": "stdout",
     "output_type": "stream",
     "text": [
      "+-------+----------+-----+\n",
      "|product| sale_date|sales|\n",
      "+-------+----------+-----+\n",
      "| Laptop|2025-01-01|  100|\n",
      "| Laptop|2025-01-02|  250|\n",
      "| Laptop|2025-01-03|  200|\n",
      "|  Phone|2025-01-01|  300|\n",
      "|  Phone|2025-01-02|  150|\n",
      "|  Phone|2025-01-03|  400|\n",
      "+-------+----------+-----+\n",
      "\n"
     ]
    }
   ],
   "source": [
    "df.show()"
   ]
  },
  {
   "cell_type": "code",
   "execution_count": 9,
   "id": "bc4ea7dd",
   "metadata": {},
   "outputs": [],
   "source": [
    "w = Window.partitionBy(\"product\").orderBy(col(\"sales\").desc())"
   ]
  },
  {
   "cell_type": "code",
   "execution_count": 11,
   "id": "354a5d5b",
   "metadata": {},
   "outputs": [],
   "source": [
    "ranked = df.withColumn(\"rn\", dense_rank().over(w))"
   ]
  },
  {
   "cell_type": "code",
   "execution_count": 17,
   "id": "7398e54d",
   "metadata": {},
   "outputs": [
    {
     "name": "stdout",
     "output_type": "stream",
     "text": [
      "+-------+--------------+-----+\n",
      "|product|peak_sale_date|sales|\n",
      "+-------+--------------+-----+\n",
      "| Laptop|    2025-01-02|  250|\n",
      "|  Phone|    2025-01-03|  400|\n",
      "+-------+--------------+-----+\n",
      "\n"
     ]
    }
   ],
   "source": [
    "ranked.filter(col(\"rn\") == 1).select(\"product\", col(\"sale_date\").alias(\"peak_sale_date\"), \"sales\").show()"
   ]
  },
  {
   "cell_type": "code",
   "execution_count": 19,
   "id": "da0dee0e",
   "metadata": {},
   "outputs": [],
   "source": [
    "data = [(\"P1\", \"2025-01-01\", 100),\n",
    "(\"P1\", \"2025-01-02\", 120),\n",
    "(\"P1\", \"2025-01-03\", 90),\n",
    "(\"P2\", \"2025-01-01\", 200),\n",
    "(\"P2\", \"2025-01-02\", 180),\n",
    "(\"P2\", \"2025-01-03\", 220)\n",
    "]\n",
    "\n",
    "columns = [\"product_id\", \"sale_date\", \"sales\"]\n",
    "\n",
    "daily_product_sales = spark.createDataFrame(data, columns)\n",
    "daily_product_sales = daily_product_sales.withColumn(\"sale_date\", to_date(\"sale_date\"))"
   ]
  },
  {
   "cell_type": "code",
   "execution_count": 20,
   "id": "06e2650f",
   "metadata": {},
   "outputs": [
    {
     "name": "stdout",
     "output_type": "stream",
     "text": [
      "+----------+----------+-----+\n",
      "|product_id| sale_date|sales|\n",
      "+----------+----------+-----+\n",
      "|        P1|2025-01-01|  100|\n",
      "|        P1|2025-01-02|  120|\n",
      "|        P1|2025-01-03|   90|\n",
      "|        P2|2025-01-01|  200|\n",
      "|        P2|2025-01-02|  180|\n",
      "|        P2|2025-01-03|  220|\n",
      "+----------+----------+-----+\n",
      "\n"
     ]
    }
   ],
   "source": [
    "daily_product_sales.show()"
   ]
  },
  {
   "cell_type": "code",
   "execution_count": 21,
   "id": "dbca4737",
   "metadata": {},
   "outputs": [],
   "source": [
    "daily_product_sales.createOrReplaceTempView(\"daily_product_sales\")"
   ]
  },
  {
   "cell_type": "code",
   "execution_count": 30,
   "id": "8b718efd",
   "metadata": {},
   "outputs": [
    {
     "name": "stdout",
     "output_type": "stream",
     "text": [
      "+----------+----------+-----+-------------+\n",
      "|product_id| sale_date|sales|previous_sale|\n",
      "+----------+----------+-----+-------------+\n",
      "|        P1|2025-01-03|   90|          120|\n",
      "|        P2|2025-01-02|  180|          200|\n",
      "+----------+----------+-----+-------------+\n",
      "\n"
     ]
    }
   ],
   "source": [
    "sales_drop = spark.sql('''\n",
    "    select product_id, sale_date, sales, previous_sale from (\n",
    "        select product_id, sale_date, sales, \n",
    "        lag(sales) over(partition by product_id order by sale_date) as previous_sale \n",
    "        from daily_product_sales) where sales < previous_sale\n",
    "''')\n",
    "sales_drop.show()"
   ]
  }
 ],
 "metadata": {
  "kernelspec": {
   "display_name": "Python 3",
   "language": "python",
   "name": "python3"
  },
  "language_info": {
   "codemirror_mode": {
    "name": "ipython",
    "version": 3
   },
   "file_extension": ".py",
   "mimetype": "text/x-python",
   "name": "python",
   "nbconvert_exporter": "python",
   "pygments_lexer": "ipython3",
   "version": "3.8.10"
  }
 },
 "nbformat": 4,
 "nbformat_minor": 5
}
