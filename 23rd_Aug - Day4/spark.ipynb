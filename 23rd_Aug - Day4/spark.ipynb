{
 "cells": [
  {
   "cell_type": "code",
   "execution_count": 1,
   "id": "72b4d815",
   "metadata": {},
   "outputs": [],
   "source": [
    "from pyspark.sql import SparkSession\n",
    "from pyspark.sql.functions import *"
   ]
  },
  {
   "cell_type": "code",
   "execution_count": 2,
   "id": "48a957ea",
   "metadata": {},
   "outputs": [
    {
     "name": "stderr",
     "output_type": "stream",
     "text": [
      "25/08/22 18:02:58 WARN Utils: Your hostname, neosoft-Latitude-5420 resolves to a loopback address: 127.0.1.1; using 10.0.61.246 instead (on interface wlp0s20f3)\n",
      "25/08/22 18:02:58 WARN Utils: Set SPARK_LOCAL_IP if you need to bind to another address\n",
      "Setting default log level to \"WARN\".\n",
      "To adjust logging level use sc.setLogLevel(newLevel). For SparkR, use setLogLevel(newLevel).\n",
      "25/08/22 18:02:58 WARN NativeCodeLoader: Unable to load native-hadoop library for your platform... using builtin-java classes where applicable\n"
     ]
    }
   ],
   "source": [
    "spark = SparkSession.builder.appName(\"PySparkPrac\").getOrCreate()"
   ]
  },
  {
   "cell_type": "code",
   "execution_count": null,
   "id": "de6ad53c",
   "metadata": {},
   "outputs": [],
   "source": [
    "data = [(\"2025-01-01\", \"T1\", 100),\n",
    "        (\"2025-01-01\", \"T2\", 200),\n",
    "        (\"2025-01-01\", \"T3\", 500),\n",
    "        (\"2025-01-02\", \"T4\", 300),\n",
    "        (\"2025-01-02\", \"T5\", 400),\n",
    "        (\"2025-01-02\", \"T6\", 600)]\n",
    "\n",
    "columns = [\"txn_date\", \"txn_id\", \"amount\"]\n",
    "\n",
    "df = spark.createDataFrame(data, columns)"
   ]
  },
  {
   "cell_type": "code",
   "execution_count": null,
   "id": "778be295",
   "metadata": {},
   "outputs": [],
   "source": [
    "avg_df = df.groupBy(\"txn_date\").agg(avg(col(\"amount\")).alias(\"avg_amount\"))"
   ]
  },
  {
   "cell_type": "code",
   "execution_count": 6,
   "id": "14f686c7",
   "metadata": {},
   "outputs": [],
   "source": [
    "join_df = df.join(avg_df, \"txn_date\", \"inner\")"
   ]
  },
  {
   "cell_type": "code",
   "execution_count": 7,
   "id": "22c5c637",
   "metadata": {},
   "outputs": [
    {
     "name": "stderr",
     "output_type": "stream",
     "text": [
      "                                                                                \r"
     ]
    },
    {
     "name": "stdout",
     "output_type": "stream",
     "text": [
      "+----------+------+------+-----------------+\n",
      "|  txn_date|txn_id|amount|       avg_amount|\n",
      "+----------+------+------+-----------------+\n",
      "|2025-01-01|    T1|   100|266.6666666666667|\n",
      "|2025-01-01|    T2|   200|266.6666666666667|\n",
      "|2025-01-01|    T3|   500|266.6666666666667|\n",
      "|2025-01-02|    T4|   300|433.3333333333333|\n",
      "|2025-01-02|    T5|   400|433.3333333333333|\n",
      "|2025-01-02|    T6|   600|433.3333333333333|\n",
      "+----------+------+------+-----------------+\n",
      "\n"
     ]
    }
   ],
   "source": [
    "join_df.show()"
   ]
  },
  {
   "cell_type": "code",
   "execution_count": 8,
   "id": "c2251eff",
   "metadata": {},
   "outputs": [
    {
     "name": "stdout",
     "output_type": "stream",
     "text": [
      "+----------+------+------+-----------------+\n",
      "|  txn_date|txn_id|amount|       avg_amount|\n",
      "+----------+------+------+-----------------+\n",
      "|2025-01-01|    T3|   500|266.6666666666667|\n",
      "|2025-01-02|    T6|   600|433.3333333333333|\n",
      "+----------+------+------+-----------------+\n",
      "\n"
     ]
    }
   ],
   "source": [
    "join_df.filter(col(\"amount\")>col(\"avg_amount\")).show()"
   ]
  },
  {
   "cell_type": "code",
   "execution_count": null,
   "id": "2b712e88",
   "metadata": {},
   "outputs": [],
   "source": []
  }
 ],
 "metadata": {
  "kernelspec": {
   "display_name": "Python 3",
   "language": "python",
   "name": "python3"
  },
  "language_info": {
   "codemirror_mode": {
    "name": "ipython",
    "version": 3
   },
   "file_extension": ".py",
   "mimetype": "text/x-python",
   "name": "python",
   "nbconvert_exporter": "python",
   "pygments_lexer": "ipython3",
   "version": "3.8.10"
  }
 },
 "nbformat": 4,
 "nbformat_minor": 5
}
