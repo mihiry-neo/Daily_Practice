{
 "cells": [
  {
   "cell_type": "code",
   "execution_count": 3,
   "id": "5a224529",
   "metadata": {},
   "outputs": [],
   "source": [
    "from pyspark.sql import SparkSession\n",
    "from pyspark.sql.functions import *\n",
    "from pyspark.sql.window import Window\n",
    "spark = SparkSession.builder.appName(\"PySparkPrac\").getOrCreate()"
   ]
  },
  {
   "cell_type": "code",
   "execution_count": 4,
   "id": "cd1a7bb9",
   "metadata": {},
   "outputs": [],
   "source": [
    "data = [\n",
    "    (101, \"2025-01-03\", 250),\n",
    "    (101, \"2025-01-05\", 300),\n",
    "    (102, \"2025-01-01\", 150),\n",
    "    (102, \"2025-01-02\", 200),\n",
    "    (103, \"2025-01-04\", 500),\n",
    "]\n",
    "\n",
    "columns = [\"customer_id\",\"purchase_date\",\"amount\"]\n",
    "\n",
    "df = spark.createDataFrame(data, columns)"
   ]
  },
  {
   "cell_type": "code",
   "execution_count": 6,
   "id": "bf1244be",
   "metadata": {},
   "outputs": [
    {
     "name": "stderr",
     "output_type": "stream",
     "text": [
      "                                                                                \r"
     ]
    },
    {
     "name": "stdout",
     "output_type": "stream",
     "text": [
      "+-----------+-------------+------+\n",
      "|customer_id|purchase_date|amount|\n",
      "+-----------+-------------+------+\n",
      "|        101|   2025-01-03|   250|\n",
      "|        102|   2025-01-01|   150|\n",
      "|        103|   2025-01-04|   500|\n",
      "+-----------+-------------+------+\n",
      "\n"
     ]
    }
   ],
   "source": [
    "w = Window.partitionBy(\"customer_id\").orderBy(\"purchase_date\")\n",
    "\n",
    "df.withColumn(\"rn\", row_number().over(w)).filter(col(\"rn\")==1).select(col(\"customer_id\"),col(\"purchase_date\"),col(\"amount\")).show()"
   ]
  },
  {
   "cell_type": "code",
   "execution_count": null,
   "id": "f19c70b3",
   "metadata": {},
   "outputs": [],
   "source": []
  }
 ],
 "metadata": {
  "kernelspec": {
   "display_name": "Python 3",
   "language": "python",
   "name": "python3"
  },
  "language_info": {
   "codemirror_mode": {
    "name": "ipython",
    "version": 3
   },
   "file_extension": ".py",
   "mimetype": "text/x-python",
   "name": "python",
   "nbconvert_exporter": "python",
   "pygments_lexer": "ipython3",
   "version": "3.8.10"
  }
 },
 "nbformat": 4,
 "nbformat_minor": 5
}
