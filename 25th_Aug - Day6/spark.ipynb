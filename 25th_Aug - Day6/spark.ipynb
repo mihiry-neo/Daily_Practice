{
 "cells": [
  {
   "cell_type": "code",
   "execution_count": 1,
   "id": "6da021fc",
   "metadata": {},
   "outputs": [],
   "source": [
    "from pyspark.sql import SparkSession\n",
    "from pyspark.sql.window import Window\n",
    "from pyspark.sql.functions import *"
   ]
  },
  {
   "cell_type": "code",
   "execution_count": 2,
   "id": "d5dcc25c",
   "metadata": {},
   "outputs": [
    {
     "name": "stderr",
     "output_type": "stream",
     "text": [
      "25/08/26 11:53:04 WARN Utils: Your hostname, neosoft-Latitude-5420 resolves to a loopback address: 127.0.1.1; using 10.0.61.246 instead (on interface wlp0s20f3)\n",
      "25/08/26 11:53:04 WARN Utils: Set SPARK_LOCAL_IP if you need to bind to another address\n",
      "Setting default log level to \"WARN\".\n",
      "To adjust logging level use sc.setLogLevel(newLevel). For SparkR, use setLogLevel(newLevel).\n",
      "25/08/26 11:53:05 WARN NativeCodeLoader: Unable to load native-hadoop library for your platform... using builtin-java classes where applicable\n"
     ]
    }
   ],
   "source": [
    "spark = SparkSession.builder.appName(\"PySparkPrac\").getOrCreate()"
   ]
  },
  {
   "cell_type": "code",
   "execution_count": 3,
   "id": "1afcd0cc",
   "metadata": {},
   "outputs": [],
   "source": [
    "data = [\n",
    "    (1, \"HR\", 60000),\n",
    "    (2, \"HR\", 75000),\n",
    "    (3, \"HR\", 50000),\n",
    "    (4, \"IT\", 90000),\n",
    "    (5, \"IT\", 85000)\n",
    "]\n",
    "columns = [\"emp_id\", \"dept\", \"salary\"]\n",
    "\n",
    "df = spark.createDataFrame(data, columns)"
   ]
  },
  {
   "cell_type": "code",
   "execution_count": 4,
   "id": "694518ae",
   "metadata": {},
   "outputs": [
    {
     "name": "stderr",
     "output_type": "stream",
     "text": [
      "                                                                                \r"
     ]
    },
    {
     "name": "stdout",
     "output_type": "stream",
     "text": [
      "+------+----+------+----+\n",
      "|emp_id|dept|salary|rank|\n",
      "+------+----+------+----+\n",
      "|     2|  HR| 75000|   1|\n",
      "|     1|  HR| 60000|   2|\n",
      "|     3|  HR| 50000|   3|\n",
      "|     4|  IT| 90000|   1|\n",
      "|     5|  IT| 85000|   2|\n",
      "+------+----+------+----+\n",
      "\n"
     ]
    }
   ],
   "source": [
    "w = Window.partitionBy(\"dept\").orderBy(col(\"salary\").desc())\n",
    "\n",
    "rn = df.withColumn(\"rank\", rank().over(w))\n",
    "rn.show()\n"
   ]
  },
  {
   "cell_type": "code",
   "execution_count": 3,
   "id": "3787612a",
   "metadata": {},
   "outputs": [],
   "source": [
    "data = [\n",
    "    (\"P1\",\"2025-01-10\"),\n",
    "    (\"P1\",\"2025-02-12\"),\n",
    "    (\"P1\",\"2025-03-09\"),\n",
    "    (\"P1\",\"2025-04-18\"),\n",
    "    (\"P1\",\"2025-05-03\"),\n",
    "    (\"P1\",\"2025-06-27\"),\n",
    "    (\"P1\",\"2025-07-14\"),\n",
    "    (\"P1\",\"2025-08-21\"),\n",
    "    (\"P1\",\"2025-09-02\"),\n",
    "    (\"P1\",\"2025-10-11\"),\n",
    "    (\"P1\",\"2025-11-06\"),\n",
    "    (\"P1\",\"2025-12-05\"),\n",
    "    (\"P2\",\"2025-01-05\"),\n",
    "    (\"P2\",\"2025-02-10\"),\n",
    "    (\"P2\",\"2025-03-15\"),\n",
    "    (\"P2\",\"2025-05-20\"),\n",
    "    (\"P2\",\"2025-06-08\"),\n",
    "    (\"P2\",\"2025-07-22\"),\n",
    "    (\"P2\",\"2025-08-30\"),\n",
    "    (\"P2\",\"2025-10-01\"),\n",
    "    (\"P2\",\"2025-11-19\"),\n",
    "    (\"P2\",\"2025-12-07\"),\n",
    "    (\"P3\",\"2025-01-02\"),\n",
    "    (\"P3\",\"2025-02-14\"),\n",
    "    (\"P3\",\"2025-03-03\"),\n",
    "    (\"P3\",\"2025-04-25\"),\n",
    "    (\"P3\",\"2025-05-09\"),\n",
    "    (\"P3\",\"2025-06-16\"),\n",
    "    (\"P3\",\"2025-07-07\"),\n",
    "    (\"P3\",\"2025-08-12\"),\n",
    "    (\"P3\",\"2025-09-28\"),\n",
    "    (\"P3\",\"2025-10-20\"),\n",
    "    (\"P3\",\"2025-11-03\"),\n",
    "    (\"P3\",\"2025-12-29\")\n",
    "]\n",
    "\n",
    "schema = [\"product_id\", \"sale_date\"]\n",
    "product_sales = spark.createDataFrame(data, schema)\n",
    "product_sales = product_sales.withColumn(\"sale_date\", to_date(col(\"sale_date\"), \"yyyy-MM-dd\"))\n",
    "product_sales.createOrReplaceTempView(\"product_sales\")"
   ]
  },
  {
   "cell_type": "code",
   "execution_count": 4,
   "id": "cce7f6ab",
   "metadata": {},
   "outputs": [],
   "source": [
    "result = spark.sql('''\n",
    "select product_id from product_sales where year(sale_date) = 2025 group by product_id having count(distinct month(sale_date)) = 12''')"
   ]
  },
  {
   "cell_type": "code",
   "execution_count": 5,
   "id": "22979fab",
   "metadata": {},
   "outputs": [
    {
     "name": "stderr",
     "output_type": "stream",
     "text": [
      "                                                                                \r"
     ]
    },
    {
     "name": "stdout",
     "output_type": "stream",
     "text": [
      "+----------+\n",
      "|product_id|\n",
      "+----------+\n",
      "|        P3|\n",
      "|        P1|\n",
      "+----------+\n",
      "\n"
     ]
    }
   ],
   "source": [
    "result.show()"
   ]
  }
 ],
 "metadata": {
  "kernelspec": {
   "display_name": "Python 3",
   "language": "python",
   "name": "python3"
  },
  "language_info": {
   "codemirror_mode": {
    "name": "ipython",
    "version": 3
   },
   "file_extension": ".py",
   "mimetype": "text/x-python",
   "name": "python",
   "nbconvert_exporter": "python",
   "pygments_lexer": "ipython3",
   "version": "3.8.10"
  }
 },
 "nbformat": 4,
 "nbformat_minor": 5
}
