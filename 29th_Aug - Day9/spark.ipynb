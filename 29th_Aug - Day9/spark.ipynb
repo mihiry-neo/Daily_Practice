{
 "cells": [
  {
   "cell_type": "code",
   "execution_count": 67,
   "id": "91a45d85",
   "metadata": {},
   "outputs": [],
   "source": [
    "from pyspark.sql import SparkSession\n",
    "from pyspark.sql.functions import *\n",
    "from pyspark.sql.window import Window"
   ]
  },
  {
   "cell_type": "code",
   "execution_count": 68,
   "id": "baf77263",
   "metadata": {},
   "outputs": [],
   "source": [
    "spark = SparkSession.builder.appName(\"PySparkPrac\").getOrCreate()"
   ]
  },
  {
   "cell_type": "code",
   "execution_count": 69,
   "id": "8be39b32",
   "metadata": {},
   "outputs": [],
   "source": [
    "users = spark.read.option(\"header\", True).csv(\"user_sessions.csv\")\n",
    "users = users.withColumn(\"event_time\", to_timestamp(\"event_time\")).withColumn(\"date\", date_format(\"event_time\", \"yyyy-MM-dd\"))"
   ]
  },
  {
   "cell_type": "code",
   "execution_count": 70,
   "id": "bc9b2bca",
   "metadata": {},
   "outputs": [
    {
     "name": "stdout",
     "output_type": "stream",
     "text": [
      "+-------+-------------------+----------+-------+---------+-------+----------+----------+\n",
      "|user_id|         event_time|event_type| device| location|browser|session_id|      date|\n",
      "+-------+-------------------+----------+-------+---------+-------+----------+----------+\n",
      "|    U21|2025-08-12 16:17:06|  purchase|desktop|Australia| Chrome|     S9440|2025-08-12|\n",
      "|     U2|2025-08-12 04:31:21|  purchase| tablet|Australia|Firefox|     S9876|2025-08-12|\n",
      "|    U18|2025-08-17 14:03:12|  purchase|desktop|    India|Firefox|     S7075|2025-08-17|\n",
      "|    U45|2025-08-20 01:56:42|      view|desktop|Australia| Safari|     S7144|2025-08-20|\n",
      "|    U21|2025-08-25 19:31:51|     login| mobile|   Canada| Safari|     S3814|2025-08-25|\n",
      "|     U3|2025-08-13 12:16:10|     click|desktop|Australia|Firefox|     S6097|2025-08-13|\n",
      "|     U5|2025-08-02 05:58:30|    logout| tablet|    India|  Opera|     S2232|2025-08-02|\n",
      "|    U19|2025-08-21 04:21:33|  purchase| tablet|      USA| Safari|     S7053|2025-08-21|\n",
      "|     U5|2025-08-21 19:18:40|     login| tablet|Australia|  Opera|     S8274|2025-08-21|\n",
      "|    U50|2025-08-01 14:36:09|  purchase| tablet|    India|   Edge|     S6611|2025-08-01|\n",
      "|    U21|2025-08-07 12:04:33|     click| tablet|Australia|Firefox|     S7261|2025-08-07|\n",
      "|     U6|2025-08-23 04:20:13|     login| mobile|   Canada|  Opera|     S6102|2025-08-23|\n",
      "|     U2|2025-08-16 00:27:15|    logout| mobile|Australia| Safari|     S9693|2025-08-16|\n",
      "|    U10|2025-08-14 06:47:32|      view|desktop|       UK|   Edge|     S3109|2025-08-14|\n",
      "|    U33|2025-08-12 10:19:44|    logout| tablet|    India|   Edge|     S4664|2025-08-12|\n",
      "|    U39|2025-08-10 01:58:28|     login| tablet|Australia|   Edge|     S5201|2025-08-10|\n",
      "|    U35|2025-08-04 09:22:59|      view| tablet|Australia|   Edge|     S9812|2025-08-04|\n",
      "|    U27|2025-08-19 04:03:32|  purchase| mobile|       UK|   Edge|     S9089|2025-08-19|\n",
      "|    U47|2025-08-16 04:48:14|     login| tablet|       UK|Firefox|     S6267|2025-08-16|\n",
      "|    U46|2025-08-17 16:00:18|     login|desktop|      USA| Chrome|     S6524|2025-08-17|\n",
      "+-------+-------------------+----------+-------+---------+-------+----------+----------+\n",
      "only showing top 20 rows\n",
      "\n"
     ]
    }
   ],
   "source": [
    "users.show()"
   ]
  },
  {
   "cell_type": "code",
   "execution_count": 72,
   "id": "60782059",
   "metadata": {},
   "outputs": [
    {
     "name": "stdout",
     "output_type": "stream",
     "text": [
      "+-------+----------+----------+\n",
      "|user_id|      date|num_logins|\n",
      "+-------+----------+----------+\n",
      "|    U28|2025-08-08|         1|\n",
      "|    U14|2025-08-23|         1|\n",
      "|    U21|2025-08-28|         1|\n",
      "|    U32|2025-08-19|         1|\n",
      "|     U7|2025-08-06|         1|\n",
      "|    U23|2025-08-17|         1|\n",
      "|     U8|2025-08-26|         1|\n",
      "|    U10|2025-08-11|         1|\n",
      "|     U8|2025-08-10|         1|\n",
      "|    U32|2025-08-20|         1|\n",
      "|    U21|2025-08-20|         1|\n",
      "|    U35|2025-08-21|         1|\n",
      "|    U40|2025-08-15|         1|\n",
      "|    U21|2025-08-10|         1|\n",
      "|     U9|2025-08-22|         1|\n",
      "|     U5|2025-08-05|         1|\n",
      "|     U3|2025-08-21|         1|\n",
      "|    U40|2025-08-28|         1|\n",
      "|     U1|2025-08-26|         1|\n",
      "|    U31|2025-08-28|         1|\n",
      "+-------+----------+----------+\n",
      "only showing top 20 rows\n",
      "\n"
     ]
    }
   ],
   "source": [
    "main_metrics = users.groupBy(\"user_id\", \"date\").agg(sum(when(col(\"event_type\") == \"login\", 1).otherwise(0)).alias(\"num_logins\"))\n",
    "main_metrics = main_metrics.filter(main_metrics[\"num_logins\"] == 1)\n",
    "main_metrics.show()"
   ]
  },
  {
   "cell_type": "code",
   "execution_count": 73,
   "id": "3f85878a",
   "metadata": {},
   "outputs": [],
   "source": [
    "device_location_browser = users.groupBy(\"user_id\", \"date\", \"device\", \"location\", \"browser\").agg(count(\"*\").alias(\"event_count\"))"
   ]
  },
  {
   "cell_type": "code",
   "execution_count": 74,
   "id": "ed9ea957",
   "metadata": {},
   "outputs": [
    {
     "name": "stdout",
     "output_type": "stream",
     "text": [
      "+-------+----------+-------+--------+-------+-----------+\n",
      "|user_id|      date| device|location|browser|event_count|\n",
      "+-------+----------+-------+--------+-------+-----------+\n",
      "|    U32|2025-08-08|desktop|      UK|  Opera|          1|\n",
      "|    U40|2025-08-16| mobile|   India| Chrome|          1|\n",
      "|     U5|2025-08-06| tablet|  Canada| Safari|          1|\n",
      "|    U45|2025-08-21| mobile|   India|   Edge|          1|\n",
      "|    U48|2025-08-12| mobile|   India|Firefox|          1|\n",
      "+-------+----------+-------+--------+-------+-----------+\n",
      "only showing top 5 rows\n",
      "\n"
     ]
    }
   ],
   "source": [
    "device_location_browser.show(5)"
   ]
  },
  {
   "cell_type": "code",
   "execution_count": 75,
   "id": "465169b5",
   "metadata": {},
   "outputs": [],
   "source": [
    "w = Window.partitionBy(\"user_id\", \"date\").orderBy(col(\"event_count\").desc())\n",
    "ranked = device_location_browser.withColumn(\"rn\", row_number().over(w))"
   ]
  },
  {
   "cell_type": "code",
   "execution_count": 76,
   "id": "4ef0d04a",
   "metadata": {},
   "outputs": [],
   "source": [
    "most_device = ranked.filter(col(\"rn\") == 1).select(\"user_id\", \"date\", col(\"device\").alias(\"most_device\"))\n",
    "top_location = ranked.filter(col(\"rn\") == 1).select(\"user_id\", \"date\", col(\"location\").alias(\"top_location\"))\n",
    "unique_browsers = users.groupBy(\"user_id\", \"date\").agg(countDistinct(\"browser\").alias(\"unique_browsers\"))"
   ]
  },
  {
   "cell_type": "code",
   "execution_count": 77,
   "id": "ba10dcd5",
   "metadata": {},
   "outputs": [
    {
     "name": "stdout",
     "output_type": "stream",
     "text": [
      "+-------+----------+----------+-----------+------------+---------------+\n",
      "|user_id|      date|num_logins|most_device|top_location|unique_browsers|\n",
      "+-------+----------+----------+-----------+------------+---------------+\n",
      "|     U1|2025-08-02|         1|     mobile|   Australia|              2|\n",
      "|     U1|2025-08-08|         1|    desktop|   Australia|              1|\n",
      "|     U1|2025-08-22|         1|     tablet|   Australia|              2|\n",
      "|     U1|2025-08-25|         1|    desktop|          UK|              1|\n",
      "|     U1|2025-08-26|         1|     tablet|   Australia|              1|\n",
      "|    U10|2025-08-07|         1|    desktop|          UK|              2|\n",
      "|    U10|2025-08-10|         1|     mobile|         USA|              2|\n",
      "|    U10|2025-08-11|         1|     mobile|      Canada|              1|\n",
      "|    U10|2025-08-19|         1|     tablet|         USA|              1|\n",
      "|    U11|2025-08-28|         1|     tablet|         USA|              4|\n",
      "|    U12|2025-08-16|         1|    desktop|   Australia|              1|\n",
      "|    U12|2025-08-21|         1|     tablet|          UK|              1|\n",
      "|    U12|2025-08-23|         1|     tablet|      Canada|              2|\n",
      "|    U13|2025-08-02|         1|    desktop|       India|              2|\n",
      "|    U13|2025-08-03|         1|     tablet|          UK|              1|\n",
      "|    U13|2025-08-09|         1|     mobile|       India|              1|\n",
      "|    U13|2025-08-16|         1|     mobile|       India|              1|\n",
      "|    U13|2025-08-17|         1|    desktop|       India|              1|\n",
      "|    U14|2025-08-15|         1|    desktop|      Canada|              1|\n",
      "|    U14|2025-08-18|         1|     mobile|   Australia|              1|\n",
      "+-------+----------+----------+-----------+------------+---------------+\n",
      "only showing top 20 rows\n",
      "\n"
     ]
    }
   ],
   "source": [
    "main_output = main_metrics.join(most_device, [\"user_id\", \"date\"]).join(top_location, [\"user_id\", \"date\"]).join(unique_browsers, [\"user_id\", \"date\"])\n",
    "main_output.show()"
   ]
  },
  {
   "cell_type": "code",
   "execution_count": 78,
   "id": "195400ce",
   "metadata": {},
   "outputs": [],
   "source": [
    "event_counts = users.groupBy(\"user_id\", \"date\").pivot(\"event_type\", [\"login\", \"logout\", \"click\", \"view\", \"purchase\"]).agg(count(\"*\")).na.fill(0)\n",
    "\n",
    "event_counts = event_counts \\\n",
    "    .withColumnRenamed(\"login\", \"login_count\") \\\n",
    "    .withColumnRenamed(\"logout\", \"logout_count\") \\\n",
    "    .withColumnRenamed(\"click\", \"click_count\") \\\n",
    "    .withColumnRenamed(\"view\", \"view_count\") \\\n",
    "    .withColumnRenamed(\"purchase\", \"purchase_count\")"
   ]
  },
  {
   "cell_type": "code",
   "execution_count": 79,
   "id": "a7daa13c",
   "metadata": {},
   "outputs": [
    {
     "name": "stdout",
     "output_type": "stream",
     "text": [
      "+-------+----------+-----------+------------+-----------+----------+--------------+\n",
      "|user_id|      date|login_count|logout_count|click_count|view_count|purchase_count|\n",
      "+-------+----------+-----------+------------+-----------+----------+--------------+\n",
      "|     U1|2025-08-24|          0|           0|          0|         0|             1|\n",
      "|     U1|2025-08-26|          1|           0|          0|         0|             0|\n",
      "|     U1|2025-08-25|          1|           0|          0|         0|             0|\n",
      "|     U1|2025-08-07|          0|           0|          0|         0|             1|\n",
      "|     U1|2025-08-22|          1|           0|          1|         0|             0|\n",
      "|     U1|2025-08-12|          0|           0|          2|         0|             0|\n",
      "|     U1|2025-08-05|          0|           0|          0|         1|             0|\n",
      "|     U1|2025-08-01|          0|           0|          1|         0|             1|\n",
      "|     U1|2025-08-15|          0|           1|          0|         0|             0|\n",
      "|     U1|2025-08-11|          0|           0|          1|         0|             0|\n",
      "|     U1|2025-08-02|          1|           2|          1|         0|             0|\n",
      "|     U1|2025-08-10|          0|           0|          0|         0|             1|\n",
      "|     U1|2025-08-04|          0|           0|          0|         0|             1|\n",
      "|     U1|2025-08-08|          1|           0|          0|         0|             0|\n",
      "|    U10|2025-08-11|          1|           0|          1|         0|             0|\n",
      "|    U10|2025-08-06|          0|           1|          0|         0|             0|\n",
      "|    U10|2025-08-15|          0|           0|          0|         1|             0|\n",
      "|    U10|2025-08-10|          1|           0|          1|         0|             0|\n",
      "|    U10|2025-08-03|          0|           0|          2|         0|             0|\n",
      "|    U10|2025-08-02|          0|           1|          0|         0|             0|\n",
      "+-------+----------+-----------+------------+-----------+----------+--------------+\n",
      "only showing top 20 rows\n",
      "\n"
     ]
    }
   ],
   "source": [
    "event_counts.orderBy(\"user_id\").show()"
   ]
  }
 ],
 "metadata": {
  "kernelspec": {
   "display_name": "Python 3",
   "language": "python",
   "name": "python3"
  },
  "language_info": {
   "codemirror_mode": {
    "name": "ipython",
    "version": 3
   },
   "file_extension": ".py",
   "mimetype": "text/x-python",
   "name": "python",
   "nbconvert_exporter": "python",
   "pygments_lexer": "ipython3",
   "version": "3.8.10"
  }
 },
 "nbformat": 4,
 "nbformat_minor": 5
}
