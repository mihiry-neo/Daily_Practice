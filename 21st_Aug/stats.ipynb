{
 "cells": [
  {
   "cell_type": "markdown",
   "metadata": {},
   "source": [
    "# US - Baby Names"
   ]
  },
  {
   "cell_type": "markdown",
   "metadata": {},
   "source": [
    "### Introduction:\n",
    "\n",
    "We are going to use a subset of [US Baby Names](https://www.kaggle.com/kaggle/us-baby-names) from Kaggle.  \n",
    "In the file it will be names from 2004 until 2014\n",
    "\n",
    "\n",
    "### Step 1. Import the necessary libraries"
   ]
  },
  {
   "cell_type": "code",
   "execution_count": 2,
   "metadata": {
    "collapsed": false
   },
   "outputs": [],
   "source": [
    "from pyspark.sql import SparkSession\n",
    "from pyspark.sql.functions import *\n",
    "import requests\n",
    "\n",
    "spark = SparkSession.builder.appName(\"PySparkPrac\").getOrCreate()"
   ]
  },
  {
   "cell_type": "markdown",
   "metadata": {},
   "source": [
    "### Step 2. Import the dataset from this [address](https://raw.githubusercontent.com/guipsamora/pandas_exercises/master/06_Stats/US_Baby_Names/US_Baby_Names_right.csv). "
   ]
  },
  {
   "cell_type": "code",
   "execution_count": 3,
   "metadata": {},
   "outputs": [],
   "source": [
    "url = \"https://raw.githubusercontent.com/guipsamora/pandas_exercises/master/06_Stats/US_Baby_Names/US_Baby_Names_right.csv\"\n",
    "file_path = \"/home/neosoft/Documents/Practice/Daily_Practice/21st_Aug/US_Baby_Names_right.csv\"\n",
    "\n",
    "with open(file_path, \"wb\") as f:\n",
    "    f.write(requests.get(url).content)"
   ]
  },
  {
   "cell_type": "markdown",
   "metadata": {},
   "source": [
    "### Step 3. Assign it to a variable called baby_names."
   ]
  },
  {
   "cell_type": "code",
   "execution_count": 9,
   "metadata": {
    "collapsed": false
   },
   "outputs": [
    {
     "name": "stdout",
     "output_type": "stream",
     "text": [
      "+-----+-------+----+------+-----+-----+\n",
      "|   Id|   Name|Year|Gender|State|Count|\n",
      "+-----+-------+----+------+-----+-----+\n",
      "|11350|   Emma|2004|     F|   AK|   62|\n",
      "|11351|Madison|2004|     F|   AK|   48|\n",
      "|11352| Hannah|2004|     F|   AK|   46|\n",
      "|11353|  Grace|2004|     F|   AK|   44|\n",
      "|11354|  Emily|2004|     F|   AK|   41|\n",
      "+-----+-------+----+------+-----+-----+\n",
      "only showing top 5 rows\n",
      "\n"
     ]
    }
   ],
   "source": [
    "baby_names = spark.read.option(\"header\",True).option(\"inferSchema\",True).csv(file_path)\n",
    "baby_names = baby_names.drop(baby_names.columns[0])\n",
    "baby_names.show(5)"
   ]
  },
  {
   "cell_type": "markdown",
   "metadata": {},
   "source": [
    "### Step 4. See the first 10 entries"
   ]
  },
  {
   "cell_type": "code",
   "execution_count": 19,
   "metadata": {
    "collapsed": false
   },
   "outputs": [
    {
     "name": "stdout",
     "output_type": "stream",
     "text": [
      "+-----+--------+----+------+-----+-----+\n",
      "|   Id|    Name|Year|Gender|State|Count|\n",
      "+-----+--------+----+------+-----+-----+\n",
      "|11350|    Emma|2004|     F|   AK|   62|\n",
      "|11351| Madison|2004|     F|   AK|   48|\n",
      "|11352|  Hannah|2004|     F|   AK|   46|\n",
      "|11353|   Grace|2004|     F|   AK|   44|\n",
      "|11354|   Emily|2004|     F|   AK|   41|\n",
      "|11355| Abigail|2004|     F|   AK|   37|\n",
      "|11356|  Olivia|2004|     F|   AK|   33|\n",
      "|11357|Isabella|2004|     F|   AK|   30|\n",
      "|11358|  Alyssa|2004|     F|   AK|   29|\n",
      "|11359|  Sophia|2004|     F|   AK|   28|\n",
      "+-----+--------+----+------+-----+-----+\n",
      "only showing top 10 rows\n",
      "\n"
     ]
    },
    {
     "data": {
      "text/plain": [
       "[Row(Id=11350, Name='Emma', Year=2004, Gender='F', State='AK', Count=62),\n",
       " Row(Id=11351, Name='Madison', Year=2004, Gender='F', State='AK', Count=48),\n",
       " Row(Id=11352, Name='Hannah', Year=2004, Gender='F', State='AK', Count=46),\n",
       " Row(Id=11353, Name='Grace', Year=2004, Gender='F', State='AK', Count=44),\n",
       " Row(Id=11354, Name='Emily', Year=2004, Gender='F', State='AK', Count=41),\n",
       " Row(Id=11355, Name='Abigail', Year=2004, Gender='F', State='AK', Count=37),\n",
       " Row(Id=11356, Name='Olivia', Year=2004, Gender='F', State='AK', Count=33),\n",
       " Row(Id=11357, Name='Isabella', Year=2004, Gender='F', State='AK', Count=30),\n",
       " Row(Id=11358, Name='Alyssa', Year=2004, Gender='F', State='AK', Count=29),\n",
       " Row(Id=11359, Name='Sophia', Year=2004, Gender='F', State='AK', Count=28)]"
      ]
     },
     "execution_count": 19,
     "metadata": {},
     "output_type": "execute_result"
    }
   ],
   "source": [
    "baby_names.show(10)\n",
    "baby_names.head(10)"
   ]
  },
  {
   "cell_type": "markdown",
   "metadata": {},
   "source": [
    "### Step 5. Delete the column 'Unnamed: 0' and 'Id'"
   ]
  },
  {
   "cell_type": "code",
   "execution_count": 18,
   "metadata": {
    "collapsed": false
   },
   "outputs": [
    {
     "name": "stdout",
     "output_type": "stream",
     "text": [
      "+---------+----+------+-----+-----+\n",
      "|     Name|Year|Gender|State|Count|\n",
      "+---------+----+------+-----+-----+\n",
      "|     Emma|2004|     F|   AK|   62|\n",
      "|  Madison|2004|     F|   AK|   48|\n",
      "|   Hannah|2004|     F|   AK|   46|\n",
      "|    Grace|2004|     F|   AK|   44|\n",
      "|    Emily|2004|     F|   AK|   41|\n",
      "|  Abigail|2004|     F|   AK|   37|\n",
      "|   Olivia|2004|     F|   AK|   33|\n",
      "| Isabella|2004|     F|   AK|   30|\n",
      "|   Alyssa|2004|     F|   AK|   29|\n",
      "|   Sophia|2004|     F|   AK|   28|\n",
      "|   Alexis|2004|     F|   AK|   27|\n",
      "|Elizabeth|2004|     F|   AK|   27|\n",
      "|   Hailey|2004|     F|   AK|   27|\n",
      "|     Anna|2004|     F|   AK|   26|\n",
      "|  Natalie|2004|     F|   AK|   25|\n",
      "|    Sarah|2004|     F|   AK|   25|\n",
      "|   Sydney|2004|     F|   AK|   25|\n",
      "|      Ava|2004|     F|   AK|   23|\n",
      "|  Trinity|2004|     F|   AK|   22|\n",
      "|    Haley|2004|     F|   AK|   21|\n",
      "+---------+----+------+-----+-----+\n",
      "only showing top 20 rows\n",
      "\n"
     ]
    }
   ],
   "source": [
    "baby_names.drop(\"Id\").show()"
   ]
  },
  {
   "cell_type": "markdown",
   "metadata": {},
   "source": [
    "### Step 6. Is there more male or female names in the dataset?"
   ]
  },
  {
   "cell_type": "code",
   "execution_count": 23,
   "metadata": {
    "collapsed": false
   },
   "outputs": [
    {
     "data": {
      "text/plain": [
       "Row(Gender='F', count=558846)"
      ]
     },
     "execution_count": 23,
     "metadata": {},
     "output_type": "execute_result"
    }
   ],
   "source": [
    "count_names = baby_names.groupBy(\"Gender\").count()\n",
    "count_names.orderBy(col(\"count\").desc()).first()"
   ]
  },
  {
   "cell_type": "markdown",
   "metadata": {},
   "source": [
    "### Step 7. Group the dataset by name and assign to names"
   ]
  },
  {
   "cell_type": "code",
   "execution_count": 26,
   "metadata": {
    "collapsed": false
   },
   "outputs": [
    {
     "name": "stderr",
     "output_type": "stream",
     "text": [
      "[Stage 30:=============================>                            (4 + 4) / 8]\r"
     ]
    },
    {
     "name": "stdout",
     "output_type": "stream",
     "text": [
      "+------+-----------+\n",
      "|  Name|Total_count|\n",
      "+------+-----------+\n",
      "| Kiana|       5965|\n",
      "|Alayna|      14171|\n",
      "| Ember|       3181|\n",
      "| Tyler|     129989|\n",
      "|Maddox|      20716|\n",
      "+------+-----------+\n",
      "only showing top 5 rows\n",
      "\n"
     ]
    },
    {
     "name": "stderr",
     "output_type": "stream",
     "text": [
      "                                                                                \r"
     ]
    }
   ],
   "source": [
    "names = baby_names.groupBy(\"Name\").agg(sum(\"Count\").alias(\"Total_count\"))\n",
    "names.show(5)"
   ]
  },
  {
   "cell_type": "markdown",
   "metadata": {},
   "source": [
    "### Step 8. How many different names exist in the dataset?"
   ]
  },
  {
   "cell_type": "code",
   "execution_count": 28,
   "metadata": {
    "collapsed": false
   },
   "outputs": [
    {
     "data": {
      "text/plain": [
       "17632"
      ]
     },
     "execution_count": 28,
     "metadata": {},
     "output_type": "execute_result"
    }
   ],
   "source": [
    "names.distinct().count()"
   ]
  },
  {
   "cell_type": "markdown",
   "metadata": {},
   "source": [
    "### Step 9. What is the name with most occurrences?"
   ]
  },
  {
   "cell_type": "code",
   "execution_count": 29,
   "metadata": {
    "collapsed": false
   },
   "outputs": [
    {
     "data": {
      "text/plain": [
       "Row(Name='Jacob', Total_count=242874)"
      ]
     },
     "execution_count": 29,
     "metadata": {},
     "output_type": "execute_result"
    }
   ],
   "source": [
    "names.orderBy(col(\"Total_count\").desc()).first()"
   ]
  },
  {
   "cell_type": "markdown",
   "metadata": {},
   "source": [
    "### Step 10. How many different names have the least occurrences?"
   ]
  },
  {
   "cell_type": "code",
   "execution_count": 32,
   "metadata": {
    "collapsed": false
   },
   "outputs": [
    {
     "data": {
      "text/plain": [
       "2578"
      ]
     },
     "execution_count": 32,
     "metadata": {},
     "output_type": "execute_result"
    }
   ],
   "source": [
    "min_count = names.agg(min(\"Total_count\")).first()[0]\n",
    "least_common_names_count = names.filter(names.Total_count == min_count).count()\n",
    "least_common_names_count"
   ]
  },
  {
   "cell_type": "markdown",
   "metadata": {},
   "source": [
    "### Step 11. What is the median name occurrence?"
   ]
  },
  {
   "cell_type": "code",
   "execution_count": 37,
   "metadata": {
    "collapsed": false
   },
   "outputs": [
    {
     "data": {
      "text/plain": [
       "48.0"
      ]
     },
     "execution_count": 37,
     "metadata": {},
     "output_type": "execute_result"
    }
   ],
   "source": [
    "median = names.approxQuantile(\"Total_count\", [0.5], 0.01)[0]\n",
    "median"
   ]
  },
  {
   "cell_type": "markdown",
   "metadata": {},
   "source": [
    "### Step 12. What is the standard deviation of names?"
   ]
  },
  {
   "cell_type": "code",
   "execution_count": 34,
   "metadata": {
    "collapsed": false
   },
   "outputs": [
    {
     "data": {
      "text/plain": [
       "11006.069467890562"
      ]
     },
     "execution_count": 34,
     "metadata": {},
     "output_type": "execute_result"
    }
   ],
   "source": [
    "\n",
    "std_dev = names.select(stddev(\"Total_count\")).first()[0]\n",
    "std_dev"
   ]
  },
  {
   "cell_type": "markdown",
   "metadata": {},
   "source": [
    "### Step 13. Get a summary with the mean, min, max, std and quartiles."
   ]
  },
  {
   "cell_type": "code",
   "execution_count": 36,
   "metadata": {
    "collapsed": false
   },
   "outputs": [
    {
     "name": "stdout",
     "output_type": "stream",
     "text": [
      "+-------+------------------+\n",
      "|summary|       Total_count|\n",
      "+-------+------------------+\n",
      "|  count|             17632|\n",
      "|   mean| 2008.932168784029|\n",
      "| stddev|11006.069467890562|\n",
      "|    min|                 5|\n",
      "|    max|            242874|\n",
      "+-------+------------------+\n",
      "\n"
     ]
    },
    {
     "data": {
      "text/plain": [
       "[10.0, 48.0, 316.0]"
      ]
     },
     "execution_count": 36,
     "metadata": {},
     "output_type": "execute_result"
    }
   ],
   "source": [
    "summary = names.select(\"Total_count\").describe()\n",
    "summary.show()\n",
    "\n",
    "quartiles = names.approxQuantile(\"Total_count\", [0.25, 0.5, 0.75], 0.01)\n",
    "quartiles\n"
   ]
  }
 ],
 "metadata": {
  "anaconda-cloud": {},
  "kernelspec": {
   "display_name": "Python 3",
   "language": "python",
   "name": "python3"
  },
  "language_info": {
   "codemirror_mode": {
    "name": "ipython",
    "version": 3
   },
   "file_extension": ".py",
   "mimetype": "text/x-python",
   "name": "python",
   "nbconvert_exporter": "python",
   "pygments_lexer": "ipython3",
   "version": "3.8.10"
  }
 },
 "nbformat": 4,
 "nbformat_minor": 0
}
