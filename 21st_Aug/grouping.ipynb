{
 "cells": [
  {
   "cell_type": "markdown",
   "metadata": {},
   "source": [
    "# Occupation"
   ]
  },
  {
   "cell_type": "markdown",
   "metadata": {},
   "source": [
    "### Introduction:\n",
    "\n",
    "Special thanks to: https://github.com/justmarkham for sharing the dataset and materials.\n",
    "\n",
    "### Step 1. Import the necessary libraries"
   ]
  },
  {
   "cell_type": "code",
   "execution_count": 6,
   "metadata": {},
   "outputs": [],
   "source": [
    "from pyspark.sql import SparkSession\n",
    "\n",
    "spark = SparkSession.builder.appName(\"PySparkPrac\").getOrCreate()"
   ]
  },
  {
   "cell_type": "code",
   "execution_count": 16,
   "metadata": {},
   "outputs": [],
   "source": [
    "import requests\n",
    "from pyspark.sql.functions import *"
   ]
  },
  {
   "cell_type": "markdown",
   "metadata": {},
   "source": [
    "### Step 2. Import the dataset from this [address](https://raw.githubusercontent.com/justmarkham/DAT8/master/data/u.user). "
   ]
  },
  {
   "cell_type": "markdown",
   "metadata": {},
   "source": [
    "### Step 3. Assign it to a variable called users."
   ]
  },
  {
   "cell_type": "code",
   "execution_count": null,
   "metadata": {
    "collapsed": false
   },
   "outputs": [],
   "source": [
    "url = \"https://raw.githubusercontent.com/justmarkham/DAT8/master/data/u.user\"\n",
    "file_path = \"/home/neosoft/Documents/Practice/Daily_Practice/21st_Aug/u.user\"\n",
    "\n",
    "with open(file_path, \"wb\") as f:\n",
    "    f.write(requests.get(url).content)"
   ]
  },
  {
   "cell_type": "code",
   "execution_count": 20,
   "metadata": {},
   "outputs": [],
   "source": [
    "users = spark.read.option(\"header\",True).option(\"delimiter\",\"|\").csv(file_path)"
   ]
  },
  {
   "cell_type": "code",
   "execution_count": 21,
   "metadata": {},
   "outputs": [
    {
     "name": "stdout",
     "output_type": "stream",
     "text": [
      "+-------+---+------+----------+--------+\n",
      "|user_id|age|gender|occupation|zip_code|\n",
      "+-------+---+------+----------+--------+\n",
      "|      1| 24|     M|technician|   85711|\n",
      "|      2| 53|     F|     other|   94043|\n",
      "|      3| 23|     M|    writer|   32067|\n",
      "|      4| 24|     M|technician|   43537|\n",
      "|      5| 33|     F|     other|   15213|\n",
      "+-------+---+------+----------+--------+\n",
      "only showing top 5 rows\n",
      "\n"
     ]
    }
   ],
   "source": [
    "users.show(5)"
   ]
  },
  {
   "cell_type": "markdown",
   "metadata": {},
   "source": [
    "### Step 4. Discover what is the mean age per occupation"
   ]
  },
  {
   "cell_type": "code",
   "execution_count": 22,
   "metadata": {
    "collapsed": false
   },
   "outputs": [
    {
     "name": "stdout",
     "output_type": "stream",
     "text": [
      "+-------------+------------------+\n",
      "|   occupation|          Mean_Age|\n",
      "+-------------+------------------+\n",
      "|    librarian|              40.0|\n",
      "|      retired| 63.07142857142857|\n",
      "|       lawyer|             36.75|\n",
      "|         none|26.555555555555557|\n",
      "|       writer| 36.31111111111111|\n",
      "|   programmer|33.121212121212125|\n",
      "|    marketing| 37.61538461538461|\n",
      "|        other|34.523809523809526|\n",
      "|    executive|          38.71875|\n",
      "|    scientist| 35.54838709677419|\n",
      "|      student|22.081632653061224|\n",
      "|     salesman|35.666666666666664|\n",
      "|       artist|31.392857142857142|\n",
      "|   technician|33.148148148148145|\n",
      "|administrator| 38.74683544303797|\n",
      "|     engineer| 36.38805970149254|\n",
      "|   healthcare|           41.5625|\n",
      "|     educator| 42.01052631578948|\n",
      "|entertainment| 29.22222222222222|\n",
      "|    homemaker| 32.57142857142857|\n",
      "+-------------+------------------+\n",
      "only showing top 20 rows\n",
      "\n"
     ]
    }
   ],
   "source": [
    "users.groupBy(\"occupation\").agg(avg(users.age).alias(\"Mean_Age\")).show()"
   ]
  },
  {
   "cell_type": "markdown",
   "metadata": {},
   "source": [
    "### Step 5. Discover the Male ratio per occupation and sort it from the most to the least"
   ]
  },
  {
   "cell_type": "code",
   "execution_count": 23,
   "metadata": {
    "collapsed": false
   },
   "outputs": [
    {
     "name": "stdout",
     "output_type": "stream",
     "text": [
      "+-------------+----------+-----------+-------------------+\n",
      "|   occupation|male_count|total_count|         male_ratio|\n",
      "+-------------+----------+-----------+-------------------+\n",
      "|       doctor|         7|          7|                1.0|\n",
      "|     engineer|        65|         67| 0.9701492537313433|\n",
      "|   technician|        26|         27| 0.9629629629629629|\n",
      "|      retired|        13|         14| 0.9285714285714286|\n",
      "|   programmer|        60|         66| 0.9090909090909091|\n",
      "|    executive|        29|         32|            0.90625|\n",
      "|    scientist|        28|         31| 0.9032258064516129|\n",
      "|entertainment|        16|         18| 0.8888888888888888|\n",
      "|       lawyer|        10|         12| 0.8333333333333334|\n",
      "|     salesman|         9|         12|               0.75|\n",
      "|     educator|        69|         95| 0.7263157894736842|\n",
      "|      student|       136|        196| 0.6938775510204082|\n",
      "|        other|        69|        105| 0.6571428571428571|\n",
      "|    marketing|        16|         26| 0.6153846153846154|\n",
      "|       writer|        26|         45| 0.5777777777777777|\n",
      "|         none|         5|          9| 0.5555555555555556|\n",
      "|administrator|        43|         79| 0.5443037974683544|\n",
      "|       artist|        15|         28| 0.5357142857142857|\n",
      "|    librarian|        22|         51|0.43137254901960786|\n",
      "|   healthcare|         5|         16|             0.3125|\n",
      "+-------------+----------+-----------+-------------------+\n",
      "only showing top 20 rows\n",
      "\n"
     ]
    }
   ],
   "source": [
    "users.groupBy(users.occupation).agg(sum(when(col(\"gender\")==\"M\",1).otherwise(0)).alias(\"male_count\"), count(\"*\").alias(\"total_count\")).withColumn(\"male_ratio\", col(\"male_count\")/col(\"total_count\")).orderBy(col(\"male_ratio\").desc()).show()"
   ]
  },
  {
   "cell_type": "markdown",
   "metadata": {},
   "source": [
    "### Step 6. For each occupation, calculate the minimum and maximum ages"
   ]
  },
  {
   "cell_type": "code",
   "execution_count": 18,
   "metadata": {
    "collapsed": false
   },
   "outputs": [
    {
     "name": "stdout",
     "output_type": "stream",
     "text": [
      "+-------------+-------+-------+\n",
      "|   occupation|Min_age|Max_age|\n",
      "+-------------+-------+-------+\n",
      "|administrator|     21|     70|\n",
      "|       artist|     19|     48|\n",
      "|       doctor|     28|     64|\n",
      "|     educator|     23|     63|\n",
      "|     engineer|     22|     70|\n",
      "|entertainment|     15|     50|\n",
      "|    executive|     22|     69|\n",
      "|   healthcare|     22|     62|\n",
      "|    homemaker|     20|     50|\n",
      "|       lawyer|     21|     53|\n",
      "|    librarian|     23|     69|\n",
      "|    marketing|     24|     55|\n",
      "|         none|     11|     55|\n",
      "|        other|     13|     64|\n",
      "|   programmer|     20|     63|\n",
      "|      retired|     51|     73|\n",
      "|     salesman|     18|     66|\n",
      "|    scientist|     23|     55|\n",
      "|      student|     10|      7|\n",
      "|   technician|     21|     55|\n",
      "+-------------+-------+-------+\n",
      "only showing top 20 rows\n",
      "\n"
     ]
    }
   ],
   "source": [
    "users.groupBy(users.occupation).agg(min(users.age).alias('Min_age'), max(users.age).alias('Max_age')).show()"
   ]
  },
  {
   "cell_type": "markdown",
   "metadata": {},
   "source": [
    "### Step 7. For each combination of occupation and gender, calculate the mean age"
   ]
  },
  {
   "cell_type": "code",
   "execution_count": 19,
   "metadata": {
    "collapsed": false
   },
   "outputs": [
    {
     "name": "stdout",
     "output_type": "stream",
     "text": [
      "+-------------+------+------------------+\n",
      "|   occupation|gender|          avg(age)|\n",
      "+-------------+------+------------------+\n",
      "|   technician|     M| 32.96153846153846|\n",
      "|     educator|     F| 39.11538461538461|\n",
      "|       lawyer|     F|              39.5|\n",
      "|entertainment|     F|              31.0|\n",
      "|       lawyer|     M|              36.2|\n",
      "|      retired|     F|              70.0|\n",
      "|      student|     F|             20.75|\n",
      "|   healthcare|     F| 39.81818181818182|\n",
      "|administrator|     M| 37.16279069767442|\n",
      "|    marketing|     M|            37.875|\n",
      "|     engineer|     F|              29.5|\n",
      "|    homemaker|     F|34.166666666666664|\n",
      "|       artist|     F|30.307692307692307|\n",
      "|         none|     F|              36.5|\n",
      "|       doctor|     M| 43.57142857142857|\n",
      "|       writer|     F| 37.63157894736842|\n",
      "|     educator|     M| 43.10144927536232|\n",
      "|    scientist|     M| 36.32142857142857|\n",
      "|   technician|     F|              38.0|\n",
      "|       writer|     M| 35.34615384615385|\n",
      "+-------------+------+------------------+\n",
      "only showing top 20 rows\n",
      "\n"
     ]
    }
   ],
   "source": [
    "users.groupBy(users.occupation, users.gender).agg(avg(users.age)).show()"
   ]
  },
  {
   "cell_type": "markdown",
   "metadata": {},
   "source": [
    "### Step 8.  For each occupation present the percentage of women and men"
   ]
  },
  {
   "cell_type": "code",
   "execution_count": 32,
   "metadata": {
    "collapsed": false
   },
   "outputs": [
    {
     "name": "stdout",
     "output_type": "stream",
     "text": [
      "+-------------+----------+------------+-----------+------------------+------------------+\n",
      "|   occupation|male_count|female_count|total_count|      male_percent|    female_percent|\n",
      "+-------------+----------+------------+-----------+------------------+------------------+\n",
      "|administrator|        43|          36|         79| 54.43037974683544| 45.56962025316456|\n",
      "|       artist|        15|          13|         28| 53.57142857142857| 46.42857142857143|\n",
      "|       doctor|         7|           0|          7|             100.0|               0.0|\n",
      "|     educator|        69|          26|         95| 72.63157894736842|27.368421052631582|\n",
      "|     engineer|        65|           2|         67| 97.01492537313433|2.9850746268656714|\n",
      "|entertainment|        16|           2|         18| 88.88888888888889| 11.11111111111111|\n",
      "|    executive|        29|           3|         32|            90.625|             9.375|\n",
      "|   healthcare|         5|          11|         16|             31.25|             68.75|\n",
      "|    homemaker|         1|           6|          7|14.285714285714285| 85.71428571428571|\n",
      "|       lawyer|        10|           2|         12| 83.33333333333334|16.666666666666664|\n",
      "|    librarian|        22|          29|         51| 43.13725490196079| 56.86274509803921|\n",
      "|    marketing|        16|          10|         26| 61.53846153846154| 38.46153846153847|\n",
      "|         none|         5|           4|          9| 55.55555555555556| 44.44444444444444|\n",
      "|        other|        69|          36|        105| 65.71428571428571|34.285714285714285|\n",
      "|   programmer|        60|           6|         66|  90.9090909090909| 9.090909090909092|\n",
      "|      retired|        13|           1|         14| 92.85714285714286| 7.142857142857142|\n",
      "|     salesman|         9|           3|         12|              75.0|              25.0|\n",
      "|    scientist|        28|           3|         31| 90.32258064516128|  9.67741935483871|\n",
      "|      student|       136|          60|        196| 69.38775510204081|30.612244897959183|\n",
      "|   technician|        26|           1|         27| 96.29629629629629|3.7037037037037033|\n",
      "+-------------+----------+------------+-----------+------------------+------------------+\n",
      "only showing top 20 rows\n",
      "\n"
     ]
    }
   ],
   "source": [
    "users.groupBy(users.occupation).agg(sum(when(col(\"gender\")==\"M\",1).otherwise(0)).alias(\"male_count\"),sum(when(col(\"gender\")==\"F\",1).otherwise(0)).alias(\"female_count\"), count(\"*\").alias(\"total_count\")).withColumn(\"male_percent\", col(\"male_count\")/col(\"total_count\") * 100).withColumn(\"female_percent\", col(\"female_count\")/col(\"total_count\") * 100).orderBy(col(\"occupation\")).show()"
   ]
  },
  {
   "cell_type": "code",
   "execution_count": null,
   "metadata": {},
   "outputs": [],
   "source": []
  }
 ],
 "metadata": {
  "kernelspec": {
   "display_name": "Python 3",
   "language": "python",
   "name": "python3"
  },
  "language_info": {
   "codemirror_mode": {
    "name": "ipython",
    "version": 3
   },
   "file_extension": ".py",
   "mimetype": "text/x-python",
   "name": "python",
   "nbconvert_exporter": "python",
   "pygments_lexer": "ipython3",
   "version": "3.8.10"
  }
 },
 "nbformat": 4,
 "nbformat_minor": 0
}
