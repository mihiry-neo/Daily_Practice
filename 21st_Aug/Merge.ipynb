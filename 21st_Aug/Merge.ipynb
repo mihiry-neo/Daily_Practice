{
 "cells": [
  {
   "cell_type": "markdown",
   "metadata": {},
   "source": [
    "# Fictitious Names"
   ]
  },
  {
   "cell_type": "markdown",
   "metadata": {},
   "source": [
    "### Introduction:\n",
    "\n",
    "This time you will create a data again \n",
    "\n",
    "Special thanks to [Chris Albon](http://chrisalbon.com/) for sharing the dataset and materials.\n",
    "All the credits to this exercise belongs to him.  \n",
    "\n",
    "In order to understand about it go [here](https://blog.codinghorror.com/a-visual-explanation-of-sql-joins/).\n",
    "\n",
    "### Step 1. Import the necessary libraries"
   ]
  },
  {
   "cell_type": "code",
   "execution_count": 1,
   "metadata": {
    "collapsed": false
   },
   "outputs": [],
   "source": [
    "from pyspark.sql import SparkSession\n",
    "from pyspark.sql.functions import *"
   ]
  },
  {
   "cell_type": "code",
   "execution_count": 2,
   "metadata": {},
   "outputs": [
    {
     "name": "stderr",
     "output_type": "stream",
     "text": [
      "25/08/21 18:50:03 WARN Utils: Your hostname, neosoft-Latitude-5420 resolves to a loopback address: 127.0.1.1; using 10.0.61.246 instead (on interface wlp0s20f3)\n",
      "25/08/21 18:50:03 WARN Utils: Set SPARK_LOCAL_IP if you need to bind to another address\n",
      "Setting default log level to \"WARN\".\n",
      "To adjust logging level use sc.setLogLevel(newLevel). For SparkR, use setLogLevel(newLevel).\n",
      "25/08/21 18:50:04 WARN NativeCodeLoader: Unable to load native-hadoop library for your platform... using builtin-java classes where applicable\n",
      "25/08/21 18:50:04 WARN Utils: Service 'SparkUI' could not bind on port 4040. Attempting port 4041.\n",
      "25/08/21 18:50:04 WARN Utils: Service 'SparkUI' could not bind on port 4041. Attempting port 4042.\n"
     ]
    }
   ],
   "source": [
    "spark = SparkSession.builder.appName(\"PySparkPrac\").getOrCreate()"
   ]
  },
  {
   "cell_type": "markdown",
   "metadata": {},
   "source": [
    "### Step 2. Create the 3 DataFrames based on the following raw data"
   ]
  },
  {
   "cell_type": "code",
   "execution_count": 4,
   "metadata": {
    "collapsed": true
   },
   "outputs": [],
   "source": [
    "raw_data_1 = {\n",
    "        'subject_id': ['1', '2', '3', '4', '5'],\n",
    "        'first_name': ['Alex', 'Amy', 'Allen', 'Alice', 'Ayoung'], \n",
    "        'last_name': ['Anderson', 'Ackerman', 'Ali', 'Aoni', 'Atiches']}\n",
    "\n",
    "raw_data_2 = {\n",
    "        'subject_id': ['4', '5', '6', '7', '8'],\n",
    "        'first_name': ['Billy', 'Brian', 'Bran', 'Bryce', 'Betty'], \n",
    "        'last_name': ['Bonder', 'Black', 'Balwner', 'Brice', 'Btisan']}\n",
    "\n",
    "raw_data_3 = {\n",
    "        'subject_id': ['1', '2', '3', '4', '5', '7', '8', '9', '10', '11'],\n",
    "        'test_id': [51, 15, 15, 61, 16, 14, 15, 1, 61, 16]}"
   ]
  },
  {
   "cell_type": "markdown",
   "metadata": {},
   "source": [
    "### Step 3. Assign each to a variable called data1, data2, data3"
   ]
  },
  {
   "cell_type": "code",
   "execution_count": 6,
   "metadata": {
    "collapsed": false
   },
   "outputs": [],
   "source": [
    "rows = list(zip(raw_data_1['subject_id'], raw_data_1['first_name'], raw_data_1['last_name']))\n",
    "data1 = spark.createDataFrame(rows, [\"subject_id\",\"first_name\", \"last_name\"])"
   ]
  },
  {
   "cell_type": "code",
   "execution_count": 7,
   "metadata": {},
   "outputs": [
    {
     "name": "stdout",
     "output_type": "stream",
     "text": [
      "[('1', 'Alex', 'Anderson'), ('2', 'Amy', 'Ackerman'), ('3', 'Allen', 'Ali'), ('4', 'Alice', 'Aoni'), ('5', 'Ayoung', 'Atiches')]\n"
     ]
    }
   ],
   "source": [
    "print(rows)"
   ]
  },
  {
   "cell_type": "code",
   "execution_count": 8,
   "metadata": {},
   "outputs": [],
   "source": [
    "rows = list(zip(raw_data_2['subject_id'], raw_data_2['first_name'], raw_data_2['last_name']))\n",
    "data2 = spark.createDataFrame(rows, [\"subject_id\",\"first_name\", \"last_name\"])"
   ]
  },
  {
   "cell_type": "code",
   "execution_count": 9,
   "metadata": {},
   "outputs": [],
   "source": [
    "rows = list(zip(raw_data_3['subject_id'], raw_data_3['test_id']))\n",
    "data3 = spark.createDataFrame(rows, [\"subject_id\",\"test_id\"])"
   ]
  },
  {
   "cell_type": "code",
   "execution_count": 10,
   "metadata": {},
   "outputs": [
    {
     "name": "stderr",
     "output_type": "stream",
     "text": [
      "                                                                                \r"
     ]
    },
    {
     "name": "stdout",
     "output_type": "stream",
     "text": [
      "+----------+----------+---------+\n",
      "|subject_id|first_name|last_name|\n",
      "+----------+----------+---------+\n",
      "|         1|      Alex| Anderson|\n",
      "|         2|       Amy| Ackerman|\n",
      "|         3|     Allen|      Ali|\n",
      "|         4|     Alice|     Aoni|\n",
      "|         5|    Ayoung|  Atiches|\n",
      "+----------+----------+---------+\n",
      "\n",
      "+----------+----------+---------+\n",
      "|subject_id|first_name|last_name|\n",
      "+----------+----------+---------+\n",
      "|         4|     Billy|   Bonder|\n",
      "|         5|     Brian|    Black|\n",
      "|         6|      Bran|  Balwner|\n",
      "|         7|     Bryce|    Brice|\n",
      "|         8|     Betty|   Btisan|\n",
      "+----------+----------+---------+\n",
      "\n",
      "+----------+-------+\n",
      "|subject_id|test_id|\n",
      "+----------+-------+\n",
      "|         1|     51|\n",
      "|         2|     15|\n",
      "|         3|     15|\n",
      "|         4|     61|\n",
      "|         5|     16|\n",
      "|         7|     14|\n",
      "|         8|     15|\n",
      "|         9|      1|\n",
      "|        10|     61|\n",
      "|        11|     16|\n",
      "+----------+-------+\n",
      "\n"
     ]
    }
   ],
   "source": [
    "data1.show()\n",
    "data2.show()\n",
    "data3.show()"
   ]
  },
  {
   "cell_type": "markdown",
   "metadata": {},
   "source": [
    "### Step 4. Join the two dataframes along rows and assign all_data"
   ]
  },
  {
   "cell_type": "code",
   "execution_count": 11,
   "metadata": {
    "collapsed": false
   },
   "outputs": [
    {
     "name": "stdout",
     "output_type": "stream",
     "text": [
      "+----------+----------+---------+\n",
      "|subject_id|first_name|last_name|\n",
      "+----------+----------+---------+\n",
      "|         1|      Alex| Anderson|\n",
      "|         2|       Amy| Ackerman|\n",
      "|         3|     Allen|      Ali|\n",
      "|         4|     Alice|     Aoni|\n",
      "|         5|    Ayoung|  Atiches|\n",
      "|         4|     Billy|   Bonder|\n",
      "|         5|     Brian|    Black|\n",
      "|         6|      Bran|  Balwner|\n",
      "|         7|     Bryce|    Brice|\n",
      "|         8|     Betty|   Btisan|\n",
      "+----------+----------+---------+\n",
      "\n"
     ]
    }
   ],
   "source": [
    "all_data = data1.unionByName(data2)\n",
    "all_data.show()"
   ]
  },
  {
   "cell_type": "markdown",
   "metadata": {},
   "source": [
    "### Step 5. Join the two dataframes along columns and assing to all_data_col"
   ]
  },
  {
   "cell_type": "code",
   "execution_count": 13,
   "metadata": {
    "collapsed": false
   },
   "outputs": [
    {
     "name": "stdout",
     "output_type": "stream",
     "text": [
      "+----------+----------+---------+----------+---------+\n",
      "|subject_id|first_name|last_name|first_name|last_name|\n",
      "+----------+----------+---------+----------+---------+\n",
      "|         4|     Alice|     Aoni|     Billy|   Bonder|\n",
      "|         5|    Ayoung|  Atiches|     Brian|    Black|\n",
      "+----------+----------+---------+----------+---------+\n",
      "\n"
     ]
    }
   ],
   "source": [
    "all_data_col = data1.join(data2, \"subject_id\", \"inner\")\n",
    "all_data_col.show()"
   ]
  },
  {
   "cell_type": "markdown",
   "metadata": {},
   "source": [
    "### Step 6. Print data3"
   ]
  },
  {
   "cell_type": "code",
   "execution_count": 14,
   "metadata": {
    "collapsed": false
   },
   "outputs": [
    {
     "name": "stdout",
     "output_type": "stream",
     "text": [
      "+----------+-------+\n",
      "|subject_id|test_id|\n",
      "+----------+-------+\n",
      "|         1|     51|\n",
      "|         2|     15|\n",
      "|         3|     15|\n",
      "|         4|     61|\n",
      "|         5|     16|\n",
      "|         7|     14|\n",
      "|         8|     15|\n",
      "|         9|      1|\n",
      "|        10|     61|\n",
      "|        11|     16|\n",
      "+----------+-------+\n",
      "\n"
     ]
    }
   ],
   "source": [
    "data3.show()"
   ]
  },
  {
   "cell_type": "markdown",
   "metadata": {},
   "source": [
    "### Step 7. Merge all_data and data3 along the subject_id value"
   ]
  },
  {
   "cell_type": "code",
   "execution_count": 15,
   "metadata": {
    "collapsed": false
   },
   "outputs": [
    {
     "name": "stdout",
     "output_type": "stream",
     "text": [
      "+----------+----------+---------+-------+\n",
      "|subject_id|first_name|last_name|test_id|\n",
      "+----------+----------+---------+-------+\n",
      "|         1|      Alex| Anderson|     51|\n",
      "|         2|       Amy| Ackerman|     15|\n",
      "|         3|     Allen|      Ali|     15|\n",
      "|         4|     Alice|     Aoni|     61|\n",
      "|         4|     Billy|   Bonder|     61|\n",
      "|         5|    Ayoung|  Atiches|     16|\n",
      "|         5|     Brian|    Black|     16|\n",
      "|         7|     Bryce|    Brice|     14|\n",
      "|         8|     Betty|   Btisan|     15|\n",
      "+----------+----------+---------+-------+\n",
      "\n"
     ]
    }
   ],
   "source": [
    "merge3 = all_data.join(data3, \"subject_id\", \"inner\")\n",
    "merge3.show()"
   ]
  },
  {
   "cell_type": "markdown",
   "metadata": {},
   "source": [
    "### Step 8. Merge only the data that has the same 'subject_id' on both data1 and data2"
   ]
  },
  {
   "cell_type": "code",
   "execution_count": 16,
   "metadata": {
    "collapsed": false
   },
   "outputs": [
    {
     "name": "stdout",
     "output_type": "stream",
     "text": [
      "+----------+----------+---------+----------+---------+\n",
      "|subject_id|first_name|last_name|first_name|last_name|\n",
      "+----------+----------+---------+----------+---------+\n",
      "|         4|     Alice|     Aoni|     Billy|   Bonder|\n",
      "|         5|    Ayoung|  Atiches|     Brian|    Black|\n",
      "+----------+----------+---------+----------+---------+\n",
      "\n"
     ]
    }
   ],
   "source": [
    "all_data_col = data1.join(data2, \"subject_id\", \"inner\")\n",
    "all_data_col.show()"
   ]
  },
  {
   "cell_type": "markdown",
   "metadata": {},
   "source": [
    "### Step 9. Merge all values in data1 and data2, with matching records from both sides where available."
   ]
  },
  {
   "cell_type": "code",
   "execution_count": 17,
   "metadata": {
    "collapsed": false
   },
   "outputs": [
    {
     "name": "stdout",
     "output_type": "stream",
     "text": [
      "+----------+----------+---------+----------+---------+\n",
      "|subject_id|first_name|last_name|first_name|last_name|\n",
      "+----------+----------+---------+----------+---------+\n",
      "|         1|      Alex| Anderson|      NULL|     NULL|\n",
      "|         2|       Amy| Ackerman|      NULL|     NULL|\n",
      "|         3|     Allen|      Ali|      NULL|     NULL|\n",
      "|         4|     Alice|     Aoni|     Billy|   Bonder|\n",
      "|         5|    Ayoung|  Atiches|     Brian|    Black|\n",
      "|         6|      NULL|     NULL|      Bran|  Balwner|\n",
      "|         7|      NULL|     NULL|     Bryce|    Brice|\n",
      "|         8|      NULL|     NULL|     Betty|   Btisan|\n",
      "+----------+----------+---------+----------+---------+\n",
      "\n"
     ]
    }
   ],
   "source": [
    "all_data_mer = data1.join(data2, \"subject_id\", \"outer\")\n",
    "all_data_mer.show()\n"
   ]
  }
 ],
 "metadata": {
  "kernelspec": {
   "display_name": "Python 3",
   "language": "python",
   "name": "python3"
  },
  "language_info": {
   "codemirror_mode": {
    "name": "ipython",
    "version": 3
   },
   "file_extension": ".py",
   "mimetype": "text/x-python",
   "name": "python",
   "nbconvert_exporter": "python",
   "pygments_lexer": "ipython3",
   "version": "3.8.10"
  }
 },
 "nbformat": 4,
 "nbformat_minor": 0
}
